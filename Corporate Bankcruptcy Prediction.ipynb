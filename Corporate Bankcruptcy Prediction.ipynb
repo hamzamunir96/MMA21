{
 "cells": [
  {
   "cell_type": "markdown",
   "metadata": {},
   "source": [
    "## Loading Libraries "
   ]
  },
  {
   "cell_type": "code",
   "execution_count": 1,
   "metadata": {},
   "outputs": [],
   "source": [
    "# Load the necessary packages and libaries \n",
    "\n",
    "import numpy as np \n",
    "import pandas as pd\n",
    "\n",
    "import matplotlib.pyplot as plt\n",
    "\n",
    "from sklearn.impute import SimpleImputer\n",
    "from sklearn.model_selection import train_test_split\n",
    "from sklearn.model_selection import GridSearchCV\n",
    "from sklearn.metrics import roc_curve, auc, roc_auc_score, classification_report, confusion_matrix, make_scorer\n",
    "from sklearn.linear_model import LogisticRegression\n",
    "from sklearn.tree import DecisionTreeClassifier\n",
    "from sklearn.ensemble import RandomForestClassifier, GradientBoostingClassifier\n",
    "from sklearn.pipeline import Pipeline\n",
    "from sklearn.compose import ColumnTransformer\n",
    "from sklearn.impute import SimpleImputer\n",
    "from sklearn.preprocessing import StandardScaler, OneHotEncoder\n",
    "from sklearn.metrics import recall_score\n",
    "from sklearn.metrics import precision_score\n",
    "from sklearn.metrics import accuracy_score\n",
    "import warnings\n",
    "warnings.filterwarnings(\"ignore\")"
   ]
  },
  {
   "cell_type": "markdown",
   "metadata": {},
   "source": [
    "## Loading Data Set & Preprocessing "
   ]
  },
  {
   "cell_type": "code",
   "execution_count": 2,
   "metadata": {},
   "outputs": [],
   "source": [
    "path = \"C:/Users/hp/Documents/Smith School of Business/MMA 823- Finance Analytics/Assignment 2/Bankruptcy_data_Final.xlsx\"\n",
    "df= pd.read_excel(path, header=0)"
   ]
  },
  {
   "cell_type": "code",
   "execution_count": 3,
   "metadata": {},
   "outputs": [
    {
     "name": "stdout",
     "output_type": "stream",
     "text": [
      "<class 'pandas.core.frame.DataFrame'>\n",
      "RangeIndex: 92872 entries, 0 to 92871\n",
      "Data columns (total 15 columns):\n",
      " #   Column              Non-Null Count  Dtype  \n",
      "---  ------              --------------  -----  \n",
      " 0   Data Year - Fiscal  92872 non-null  int64  \n",
      " 1   Tobin's Q           92620 non-null  float64\n",
      " 2   EPS                 92867 non-null  float64\n",
      " 3   Liquidity           92625 non-null  float64\n",
      " 4   Profitability       92625 non-null  float64\n",
      " 5   Productivity        92625 non-null  float64\n",
      " 6   Leverage Ratio      92846 non-null  float64\n",
      " 7   Asset Turnover      92625 non-null  float64\n",
      " 8   Operational Margin  87315 non-null  float64\n",
      " 9   Return on Equity    92864 non-null  float64\n",
      " 10  Market Book Ratio   92815 non-null  float64\n",
      " 11  Assets Growth       86171 non-null  float64\n",
      " 12  Sales Growth        86171 non-null  float64\n",
      " 13  Employee Growth     85862 non-null  float64\n",
      " 14  BK                  92872 non-null  int64  \n",
      "dtypes: float64(13), int64(2)\n",
      "memory usage: 10.6 MB\n"
     ]
    }
   ],
   "source": [
    "df.info()"
   ]
  },
  {
   "cell_type": "code",
   "execution_count": 4,
   "metadata": {},
   "outputs": [
    {
     "data": {
      "text/plain": [
       "Data Year - Fiscal       0\n",
       "Tobin's Q              252\n",
       "EPS                      5\n",
       "Liquidity              247\n",
       "Profitability          247\n",
       "Productivity           247\n",
       "Leverage Ratio          26\n",
       "Asset Turnover         247\n",
       "Operational Margin    5557\n",
       "Return on Equity         8\n",
       "Market Book Ratio       57\n",
       "Assets Growth         6701\n",
       "Sales Growth          6701\n",
       "Employee Growth       7010\n",
       "BK                       0\n",
       "dtype: int64"
      ]
     },
     "execution_count": 4,
     "metadata": {},
     "output_type": "execute_result"
    }
   ],
   "source": [
    "# \"Cleaning\" the data - replacing/imputing missing data\n",
    "\n",
    "pd.DataFrame(df).isna().sum() # Lets check if we have any missing data -- the result shows that yes, and a lot"
   ]
  },
  {
   "cell_type": "markdown",
   "metadata": {},
   "source": [
    "## Impute Missing Values "
   ]
  },
  {
   "cell_type": "code",
   "execution_count": 5,
   "metadata": {},
   "outputs": [],
   "source": [
    "# \"Cleaning\" the data - replacing/imputing missing data\n",
    "\n",
    "# Approach:\n",
    "# Categorical features: adding new category 'missing_value' (as if this is a new color, or gender)\n",
    "# Numerical features: replacing with a median (or mean, or most frequent value, etc.) An alternative approach is to imputate, see here: https://scikit-learn.org/stable/modules/impute.html \n",
    "# + we add surrogate columns indicating that the value is imputed\n",
    "\n",
    "# creating surrogates\n",
    "for col in df:\n",
    "    if df[col].isna().sum() != 0: \n",
    "        df[col + '_surrogate'] = df[col].isna().astype(float)\n"
   ]
  },
  {
   "cell_type": "code",
   "execution_count": 6,
   "metadata": {
    "scrolled": true
   },
   "outputs": [],
   "source": [
    "# fixing numericals \n",
    "imputer = SimpleImputer(missing_values = np.nan, strategy='median')\n",
    "imputer.fit(df.select_dtypes(include=['int64','float64']))\n",
    "df[df.select_dtypes(include=['int64','float64']).columns] = imputer.transform(df.select_dtypes(include=['int64','float64']))\n"
   ]
  },
  {
   "cell_type": "code",
   "execution_count": 7,
   "metadata": {},
   "outputs": [
    {
     "data": {
      "text/html": [
       "<div>\n",
       "<style scoped>\n",
       "    .dataframe tbody tr th:only-of-type {\n",
       "        vertical-align: middle;\n",
       "    }\n",
       "\n",
       "    .dataframe tbody tr th {\n",
       "        vertical-align: top;\n",
       "    }\n",
       "\n",
       "    .dataframe thead th {\n",
       "        text-align: right;\n",
       "    }\n",
       "</style>\n",
       "<table border=\"1\" class=\"dataframe\">\n",
       "  <thead>\n",
       "    <tr style=\"text-align: right;\">\n",
       "      <th></th>\n",
       "      <th>Sales Growth</th>\n",
       "      <th>Sales Growth_surrogate</th>\n",
       "    </tr>\n",
       "  </thead>\n",
       "  <tbody>\n",
       "    <tr>\n",
       "      <th>0</th>\n",
       "      <td>0.059733</td>\n",
       "      <td>1.0</td>\n",
       "    </tr>\n",
       "    <tr>\n",
       "      <th>1</th>\n",
       "      <td>0.014278</td>\n",
       "      <td>0.0</td>\n",
       "    </tr>\n",
       "    <tr>\n",
       "      <th>2</th>\n",
       "      <td>0.327909</td>\n",
       "      <td>0.0</td>\n",
       "    </tr>\n",
       "    <tr>\n",
       "      <th>3</th>\n",
       "      <td>-0.118904</td>\n",
       "      <td>0.0</td>\n",
       "    </tr>\n",
       "    <tr>\n",
       "      <th>4</th>\n",
       "      <td>0.146807</td>\n",
       "      <td>0.0</td>\n",
       "    </tr>\n",
       "    <tr>\n",
       "      <th>...</th>\n",
       "      <td>...</td>\n",
       "      <td>...</td>\n",
       "    </tr>\n",
       "    <tr>\n",
       "      <th>92867</th>\n",
       "      <td>-0.557483</td>\n",
       "      <td>0.0</td>\n",
       "    </tr>\n",
       "    <tr>\n",
       "      <th>92868</th>\n",
       "      <td>-0.010544</td>\n",
       "      <td>0.0</td>\n",
       "    </tr>\n",
       "    <tr>\n",
       "      <th>92869</th>\n",
       "      <td>-0.020206</td>\n",
       "      <td>0.0</td>\n",
       "    </tr>\n",
       "    <tr>\n",
       "      <th>92870</th>\n",
       "      <td>-0.170928</td>\n",
       "      <td>0.0</td>\n",
       "    </tr>\n",
       "    <tr>\n",
       "      <th>92871</th>\n",
       "      <td>0.064574</td>\n",
       "      <td>0.0</td>\n",
       "    </tr>\n",
       "  </tbody>\n",
       "</table>\n",
       "<p>92872 rows × 2 columns</p>\n",
       "</div>"
      ],
      "text/plain": [
       "       Sales Growth  Sales Growth_surrogate\n",
       "0          0.059733                     1.0\n",
       "1          0.014278                     0.0\n",
       "2          0.327909                     0.0\n",
       "3         -0.118904                     0.0\n",
       "4          0.146807                     0.0\n",
       "...             ...                     ...\n",
       "92867     -0.557483                     0.0\n",
       "92868     -0.010544                     0.0\n",
       "92869     -0.020206                     0.0\n",
       "92870     -0.170928                     0.0\n",
       "92871      0.064574                     0.0\n",
       "\n",
       "[92872 rows x 2 columns]"
      ]
     },
     "execution_count": 7,
     "metadata": {},
     "output_type": "execute_result"
    }
   ],
   "source": [
    "# Lets examine the result, e.g., datafield \"Poverty.Code\"\n",
    "df[['Sales Growth','Sales Growth_surrogate']]"
   ]
  },
  {
   "cell_type": "code",
   "execution_count": 8,
   "metadata": {},
   "outputs": [
    {
     "name": "stdout",
     "output_type": "stream",
     "text": [
      "<class 'pandas.core.frame.DataFrame'>\n",
      "RangeIndex: 92872 entries, 0 to 92871\n",
      "Data columns (total 28 columns):\n",
      " #   Column                        Non-Null Count  Dtype  \n",
      "---  ------                        --------------  -----  \n",
      " 0   Data Year - Fiscal            92872 non-null  float64\n",
      " 1   Tobin's Q                     92872 non-null  float64\n",
      " 2   EPS                           92872 non-null  float64\n",
      " 3   Liquidity                     92872 non-null  float64\n",
      " 4   Profitability                 92872 non-null  float64\n",
      " 5   Productivity                  92872 non-null  float64\n",
      " 6   Leverage Ratio                92872 non-null  float64\n",
      " 7   Asset Turnover                92872 non-null  float64\n",
      " 8   Operational Margin            92872 non-null  float64\n",
      " 9   Return on Equity              92872 non-null  float64\n",
      " 10  Market Book Ratio             92872 non-null  float64\n",
      " 11  Assets Growth                 92872 non-null  float64\n",
      " 12  Sales Growth                  92872 non-null  float64\n",
      " 13  Employee Growth               92872 non-null  float64\n",
      " 14  BK                            92872 non-null  float64\n",
      " 15  Tobin's Q_surrogate           92872 non-null  float64\n",
      " 16  EPS_surrogate                 92872 non-null  float64\n",
      " 17  Liquidity_surrogate           92872 non-null  float64\n",
      " 18  Profitability_surrogate       92872 non-null  float64\n",
      " 19  Productivity_surrogate        92872 non-null  float64\n",
      " 20  Leverage Ratio_surrogate      92872 non-null  float64\n",
      " 21  Asset Turnover_surrogate      92872 non-null  float64\n",
      " 22  Operational Margin_surrogate  92872 non-null  float64\n",
      " 23  Return on Equity_surrogate    92872 non-null  float64\n",
      " 24  Market Book Ratio_surrogate   92872 non-null  float64\n",
      " 25  Assets Growth_surrogate       92872 non-null  float64\n",
      " 26  Sales Growth_surrogate        92872 non-null  float64\n",
      " 27  Employee Growth_surrogate     92872 non-null  float64\n",
      "dtypes: float64(28)\n",
      "memory usage: 19.8 MB\n"
     ]
    }
   ],
   "source": [
    "df.info()"
   ]
  },
  {
   "cell_type": "code",
   "execution_count": 9,
   "metadata": {},
   "outputs": [
    {
     "data": {
      "text/html": [
       "<div>\n",
       "<style scoped>\n",
       "    .dataframe tbody tr th:only-of-type {\n",
       "        vertical-align: middle;\n",
       "    }\n",
       "\n",
       "    .dataframe tbody tr th {\n",
       "        vertical-align: top;\n",
       "    }\n",
       "\n",
       "    .dataframe thead th {\n",
       "        text-align: right;\n",
       "    }\n",
       "</style>\n",
       "<table border=\"1\" class=\"dataframe\">\n",
       "  <thead>\n",
       "    <tr style=\"text-align: right;\">\n",
       "      <th></th>\n",
       "      <th>Data Year - Fiscal</th>\n",
       "      <th>Tobin's Q</th>\n",
       "      <th>EPS</th>\n",
       "      <th>Liquidity</th>\n",
       "      <th>Profitability</th>\n",
       "      <th>Productivity</th>\n",
       "      <th>Leverage Ratio</th>\n",
       "      <th>Asset Turnover</th>\n",
       "      <th>Operational Margin</th>\n",
       "      <th>Return on Equity</th>\n",
       "      <th>...</th>\n",
       "      <th>Profitability_surrogate</th>\n",
       "      <th>Productivity_surrogate</th>\n",
       "      <th>Leverage Ratio_surrogate</th>\n",
       "      <th>Asset Turnover_surrogate</th>\n",
       "      <th>Operational Margin_surrogate</th>\n",
       "      <th>Return on Equity_surrogate</th>\n",
       "      <th>Market Book Ratio_surrogate</th>\n",
       "      <th>Assets Growth_surrogate</th>\n",
       "      <th>Sales Growth_surrogate</th>\n",
       "      <th>Employee Growth_surrogate</th>\n",
       "    </tr>\n",
       "  </thead>\n",
       "  <tbody>\n",
       "    <tr>\n",
       "      <th>0</th>\n",
       "      <td>1979.0</td>\n",
       "      <td>0.98</td>\n",
       "      <td>1.58</td>\n",
       "      <td>0.36</td>\n",
       "      <td>0.18</td>\n",
       "      <td>0.13</td>\n",
       "      <td>1.33</td>\n",
       "      <td>1.77</td>\n",
       "      <td>0.07</td>\n",
       "      <td>0.15</td>\n",
       "      <td>...</td>\n",
       "      <td>0.0</td>\n",
       "      <td>0.0</td>\n",
       "      <td>0.0</td>\n",
       "      <td>0.0</td>\n",
       "      <td>0.0</td>\n",
       "      <td>0.0</td>\n",
       "      <td>0.0</td>\n",
       "      <td>1.0</td>\n",
       "      <td>1.0</td>\n",
       "      <td>1.0</td>\n",
       "    </tr>\n",
       "    <tr>\n",
       "      <th>1</th>\n",
       "      <td>1980.0</td>\n",
       "      <td>0.98</td>\n",
       "      <td>1.41</td>\n",
       "      <td>0.36</td>\n",
       "      <td>0.19</td>\n",
       "      <td>0.12</td>\n",
       "      <td>1.31</td>\n",
       "      <td>1.59</td>\n",
       "      <td>0.07</td>\n",
       "      <td>0.13</td>\n",
       "      <td>...</td>\n",
       "      <td>0.0</td>\n",
       "      <td>0.0</td>\n",
       "      <td>0.0</td>\n",
       "      <td>0.0</td>\n",
       "      <td>0.0</td>\n",
       "      <td>0.0</td>\n",
       "      <td>0.0</td>\n",
       "      <td>0.0</td>\n",
       "      <td>0.0</td>\n",
       "      <td>0.0</td>\n",
       "    </tr>\n",
       "    <tr>\n",
       "      <th>2</th>\n",
       "      <td>1981.0</td>\n",
       "      <td>0.87</td>\n",
       "      <td>0.31</td>\n",
       "      <td>0.32</td>\n",
       "      <td>0.13</td>\n",
       "      <td>0.08</td>\n",
       "      <td>1.03</td>\n",
       "      <td>1.55</td>\n",
       "      <td>0.05</td>\n",
       "      <td>0.04</td>\n",
       "      <td>...</td>\n",
       "      <td>0.0</td>\n",
       "      <td>0.0</td>\n",
       "      <td>0.0</td>\n",
       "      <td>0.0</td>\n",
       "      <td>0.0</td>\n",
       "      <td>0.0</td>\n",
       "      <td>0.0</td>\n",
       "      <td>0.0</td>\n",
       "      <td>0.0</td>\n",
       "      <td>0.0</td>\n",
       "    </tr>\n",
       "    <tr>\n",
       "      <th>3</th>\n",
       "      <td>1982.0</td>\n",
       "      <td>1.13</td>\n",
       "      <td>0.71</td>\n",
       "      <td>0.28</td>\n",
       "      <td>0.14</td>\n",
       "      <td>0.08</td>\n",
       "      <td>0.80</td>\n",
       "      <td>1.39</td>\n",
       "      <td>0.06</td>\n",
       "      <td>0.05</td>\n",
       "      <td>...</td>\n",
       "      <td>0.0</td>\n",
       "      <td>0.0</td>\n",
       "      <td>0.0</td>\n",
       "      <td>0.0</td>\n",
       "      <td>0.0</td>\n",
       "      <td>0.0</td>\n",
       "      <td>0.0</td>\n",
       "      <td>0.0</td>\n",
       "      <td>0.0</td>\n",
       "      <td>0.0</td>\n",
       "    </tr>\n",
       "    <tr>\n",
       "      <th>4</th>\n",
       "      <td>1983.0</td>\n",
       "      <td>1.26</td>\n",
       "      <td>0.75</td>\n",
       "      <td>0.41</td>\n",
       "      <td>0.13</td>\n",
       "      <td>0.08</td>\n",
       "      <td>0.20</td>\n",
       "      <td>1.30</td>\n",
       "      <td>0.06</td>\n",
       "      <td>0.04</td>\n",
       "      <td>...</td>\n",
       "      <td>0.0</td>\n",
       "      <td>0.0</td>\n",
       "      <td>0.0</td>\n",
       "      <td>0.0</td>\n",
       "      <td>0.0</td>\n",
       "      <td>0.0</td>\n",
       "      <td>0.0</td>\n",
       "      <td>0.0</td>\n",
       "      <td>0.0</td>\n",
       "      <td>0.0</td>\n",
       "    </tr>\n",
       "  </tbody>\n",
       "</table>\n",
       "<p>5 rows × 28 columns</p>\n",
       "</div>"
      ],
      "text/plain": [
       "   Data Year - Fiscal  Tobin's Q   EPS  Liquidity  Profitability  \\\n",
       "0              1979.0       0.98  1.58       0.36           0.18   \n",
       "1              1980.0       0.98  1.41       0.36           0.19   \n",
       "2              1981.0       0.87  0.31       0.32           0.13   \n",
       "3              1982.0       1.13  0.71       0.28           0.14   \n",
       "4              1983.0       1.26  0.75       0.41           0.13   \n",
       "\n",
       "   Productivity  Leverage Ratio  Asset Turnover  Operational Margin  \\\n",
       "0          0.13            1.33            1.77                0.07   \n",
       "1          0.12            1.31            1.59                0.07   \n",
       "2          0.08            1.03            1.55                0.05   \n",
       "3          0.08            0.80            1.39                0.06   \n",
       "4          0.08            0.20            1.30                0.06   \n",
       "\n",
       "   Return on Equity  ...  Profitability_surrogate  Productivity_surrogate  \\\n",
       "0              0.15  ...                      0.0                     0.0   \n",
       "1              0.13  ...                      0.0                     0.0   \n",
       "2              0.04  ...                      0.0                     0.0   \n",
       "3              0.05  ...                      0.0                     0.0   \n",
       "4              0.04  ...                      0.0                     0.0   \n",
       "\n",
       "   Leverage Ratio_surrogate  Asset Turnover_surrogate  \\\n",
       "0                       0.0                       0.0   \n",
       "1                       0.0                       0.0   \n",
       "2                       0.0                       0.0   \n",
       "3                       0.0                       0.0   \n",
       "4                       0.0                       0.0   \n",
       "\n",
       "   Operational Margin_surrogate  Return on Equity_surrogate  \\\n",
       "0                           0.0                         0.0   \n",
       "1                           0.0                         0.0   \n",
       "2                           0.0                         0.0   \n",
       "3                           0.0                         0.0   \n",
       "4                           0.0                         0.0   \n",
       "\n",
       "   Market Book Ratio_surrogate  Assets Growth_surrogate  \\\n",
       "0                          0.0                      1.0   \n",
       "1                          0.0                      0.0   \n",
       "2                          0.0                      0.0   \n",
       "3                          0.0                      0.0   \n",
       "4                          0.0                      0.0   \n",
       "\n",
       "   Sales Growth_surrogate  Employee Growth_surrogate  \n",
       "0                     1.0                        1.0  \n",
       "1                     0.0                        0.0  \n",
       "2                     0.0                        0.0  \n",
       "3                     0.0                        0.0  \n",
       "4                     0.0                        0.0  \n",
       "\n",
       "[5 rows x 28 columns]"
      ]
     },
     "execution_count": 9,
     "metadata": {},
     "output_type": "execute_result"
    }
   ],
   "source": [
    "df.head() "
   ]
  },
  {
   "cell_type": "code",
   "execution_count": 10,
   "metadata": {},
   "outputs": [
    {
     "data": {
      "text/plain": [
       "Data Year - Fiscal              0\n",
       "Tobin's Q                       0\n",
       "EPS                             0\n",
       "Liquidity                       0\n",
       "Profitability                   0\n",
       "Productivity                    0\n",
       "Leverage Ratio                  0\n",
       "Asset Turnover                  0\n",
       "Operational Margin              0\n",
       "Return on Equity                0\n",
       "Market Book Ratio               0\n",
       "Assets Growth                   0\n",
       "Sales Growth                    0\n",
       "Employee Growth                 0\n",
       "BK                              0\n",
       "Tobin's Q_surrogate             0\n",
       "EPS_surrogate                   0\n",
       "Liquidity_surrogate             0\n",
       "Profitability_surrogate         0\n",
       "Productivity_surrogate          0\n",
       "Leverage Ratio_surrogate        0\n",
       "Asset Turnover_surrogate        0\n",
       "Operational Margin_surrogate    0\n",
       "Return on Equity_surrogate      0\n",
       "Market Book Ratio_surrogate     0\n",
       "Assets Growth_surrogate         0\n",
       "Sales Growth_surrogate          0\n",
       "Employee Growth_surrogate       0\n",
       "dtype: int64"
      ]
     },
     "execution_count": 10,
     "metadata": {},
     "output_type": "execute_result"
    }
   ],
   "source": [
    "pd.DataFrame(df).isna().sum() "
   ]
  },
  {
   "cell_type": "code",
   "execution_count": 11,
   "metadata": {},
   "outputs": [
    {
     "data": {
      "text/plain": [
       "(92872, 28)"
      ]
     },
     "execution_count": 11,
     "metadata": {},
     "output_type": "execute_result"
    }
   ],
   "source": [
    "df.shape"
   ]
  },
  {
   "cell_type": "code",
   "execution_count": 51,
   "metadata": {},
   "outputs": [
    {
     "data": {
      "image/png": "[encoded data removed]",
      "text/plain": [
       "<Figure size 936x936 with 2 Axes>"
      ]
     },
     "metadata": {
      "needs_background": "light"
     },
     "output_type": "display_data"
    }
   ],
   "source": [
    "def correlation_heatmap(df):\n",
    "    correlations = df.corr()\n",
    "\n",
    "    fig, ax = plt.subplots(figsize=(13,13))\n",
    "    sns.heatmap(correlations, vmax=1.0, center=0, fmt='.2f',\n",
    "                square=True, linewidths=.5, annot=True, cbar_kws={\"shrink\": .70})\n",
    "    plt.show();\n",
    "    \n",
    "correlation_heatmap(df)"
   ]
  },
  {
   "cell_type": "code",
   "execution_count": 12,
   "metadata": {},
   "outputs": [],
   "source": [
    "dep_var = ['BK']\n",
    "\n",
    "#STORE and StoreID have the same information\n",
    "categorical_vars = ['Data Year - Fiscal']\n",
    "\n",
    "continuous_vars = [\"Tobin's Q\",'EPS','Liquidity','Profitability','Productivity','Leverage Ratio','Asset Turnover','Operational Margin','Return on Equity','Market Book Ratio','Assets Growth','Sales Growth','Employee Growth']"
   ]
  },
  {
   "cell_type": "markdown",
   "metadata": {},
   "source": [
    "## Training-Test Set Split "
   ]
  },
  {
   "cell_type": "code",
   "execution_count": 15,
   "metadata": {},
   "outputs": [
    {
     "name": "stdout",
     "output_type": "stream",
     "text": [
      "(83584, 14) (9288, 14) (83584, 1) (9288, 1)\n"
     ]
    }
   ],
   "source": [
    "X = df[categorical_vars+continuous_vars]\n",
    "y = df[dep_var]\n",
    "\n",
    "\n",
    "X_new, X_holdout, y_new, y_holdout = train_test_split(X, y, test_size=0.10, random_state=123,stratify=y)\n",
    "\n",
    "print(X_new.shape, X_holdout.shape, y_new.shape, y_holdout.shape)"
   ]
  },
  {
   "cell_type": "code",
   "execution_count": 16,
   "metadata": {},
   "outputs": [
    {
     "name": "stdout",
     "output_type": "stream",
     "text": [
      "(62688, 14) (20896, 14) (62688, 1) (20896, 1)\n"
     ]
    }
   ],
   "source": [
    "X_train, X_test, y_train, y_test = train_test_split(X_new, y_new, test_size=0.25, random_state=123,stratify=y_new)\n",
    "\n",
    "print(X_train.shape, X_test.shape, y_train.shape, y_test.shape)"
   ]
  },
  {
   "cell_type": "markdown",
   "metadata": {},
   "source": [
    "## Feature Importance via XGB Boost "
   ]
  },
  {
   "cell_type": "code",
   "execution_count": 17,
   "metadata": {},
   "outputs": [
    {
     "data": {
      "text/html": [
       "<div>\n",
       "<style scoped>\n",
       "    .dataframe tbody tr th:only-of-type {\n",
       "        vertical-align: middle;\n",
       "    }\n",
       "\n",
       "    .dataframe tbody tr th {\n",
       "        vertical-align: top;\n",
       "    }\n",
       "\n",
       "    .dataframe thead th {\n",
       "        text-align: right;\n",
       "    }\n",
       "</style>\n",
       "<table border=\"1\" class=\"dataframe\">\n",
       "  <thead>\n",
       "    <tr style=\"text-align: right;\">\n",
       "      <th></th>\n",
       "      <th>names</th>\n",
       "      <th>importance</th>\n",
       "    </tr>\n",
       "  </thead>\n",
       "  <tbody>\n",
       "    <tr>\n",
       "      <th>9</th>\n",
       "      <td>Return on Equity</td>\n",
       "      <td>0.412076</td>\n",
       "    </tr>\n",
       "    <tr>\n",
       "      <th>0</th>\n",
       "      <td>Data Year - Fiscal</td>\n",
       "      <td>0.231840</td>\n",
       "    </tr>\n",
       "    <tr>\n",
       "      <th>4</th>\n",
       "      <td>Profitability</td>\n",
       "      <td>0.060317</td>\n",
       "    </tr>\n",
       "    <tr>\n",
       "      <th>2</th>\n",
       "      <td>EPS</td>\n",
       "      <td>0.056789</td>\n",
       "    </tr>\n",
       "    <tr>\n",
       "      <th>10</th>\n",
       "      <td>Market Book Ratio</td>\n",
       "      <td>0.037397</td>\n",
       "    </tr>\n",
       "  </tbody>\n",
       "</table>\n",
       "</div>"
      ],
      "text/plain": [
       "                 names  importance\n",
       "9     Return on Equity    0.412076\n",
       "0   Data Year - Fiscal    0.231840\n",
       "4        Profitability    0.060317\n",
       "2                  EPS    0.056789\n",
       "10   Market Book Ratio    0.037397"
      ]
     },
     "execution_count": 17,
     "metadata": {},
     "output_type": "execute_result"
    }
   ],
   "source": [
    "from imblearn.under_sampling import RandomUnderSampler\n",
    "rus=RandomUnderSampler(random_state=0)\n",
    "X_resampled, y_resampled = rus.fit_resample(X_new, y_new)\n",
    "clf_xgb = GradientBoostingClassifier(random_state=0).fit(X_resampled, np.ravel(y_resampled))\n",
    "feat_imp_xgb = pd.DataFrame(data={'names': X.columns, 'importance': clf_xgb.feature_importances_})\n",
    "feat_imp_xgb.sort_values(by=['importance'], ascending=False).head()"
   ]
  },
  {
   "cell_type": "markdown",
   "metadata": {},
   "source": [
    "## Modelling- Logestic Regression "
   ]
  },
  {
   "cell_type": "code",
   "execution_count": 18,
   "metadata": {},
   "outputs": [
    {
     "name": "stdout",
     "output_type": "stream",
     "text": [
      "AUC:  50.0%\n",
      "Recall:  0.0%\n",
      "Precision:  0.0%\n",
      "Accuracy:  99.4%\n"
     ]
    }
   ],
   "source": [
    "clf = LogisticRegression(random_state=0).fit(X_train, np.ravel(y_train))\n",
    "predicted = clf.predict(X_test)\n",
    "\n",
    "AUC = str(round(roc_auc_score(y_test, predicted)*100, 2)) + \"%\"\n",
    "Recall = str(round(recall_score(y_test, predicted)*100, 2)) + \"%\"\n",
    "Precision = str(round(precision_score(y_test, predicted)*100, 2)) + \"%\"\n",
    "Accuracy = str(round(accuracy_score(y_test, predicted)*100, 2)) + \"%\"\n",
    "\n",
    "print(\"AUC: \",  AUC)\n",
    "print(\"Recall: \",  Recall)\n",
    "print(\"Precision: \",  Precision)\n",
    "print(\"Accuracy: \",  Accuracy)"
   ]
  },
  {
   "cell_type": "code",
   "execution_count": 19,
   "metadata": {},
   "outputs": [
    {
     "name": "stdout",
     "output_type": "stream",
     "text": [
      "Class 0: 92314\n",
      "Class 1: 558\n",
      "Proportion: 165.44 : 1\n"
     ]
    },
    {
     "data": {
      "image/png": "[encoded data removed]",
      "text/plain": [
       "<Figure size 432x288 with 1 Axes>"
      ]
     },
     "metadata": {
      "needs_background": "light"
     },
     "output_type": "display_data"
    }
   ],
   "source": [
    "target_count = df.BK.value_counts()\n",
    "print('Class 0:', target_count[0])\n",
    "print('Class 1:', target_count[1])\n",
    "print('Proportion:', round(target_count[0] / target_count[1], 2), ': 1')\n",
    "\n",
    "target_count.plot(kind='bar', title='Count (target)');"
   ]
  },
  {
   "cell_type": "markdown",
   "metadata": {},
   "source": [
    "## Logistic Regression "
   ]
  },
  {
   "cell_type": "code",
   "execution_count": 20,
   "metadata": {},
   "outputs": [
    {
     "name": "stdout",
     "output_type": "stream",
     "text": [
      "AUC:  50.0%\n",
      "Recall:  0.0%\n",
      "Precision:  0.0%\n",
      "Accuracy:  99.4%\n"
     ]
    }
   ],
   "source": [
    "clf = LogisticRegression(random_state=0).fit(X_train, np.ravel(y_train))\n",
    "predicted = clf.predict(X_test)\n",
    "\n",
    "AUC = str(round(roc_auc_score(y_test, predicted)*100, 2)) + \"%\"\n",
    "Recall = str(round(recall_score(y_test, predicted)*100, 2)) + \"%\"\n",
    "Precision = str(round(precision_score(y_test, predicted)*100, 2)) + \"%\"\n",
    "Accuracy = str(round(accuracy_score(y_test, predicted)*100, 2)) + \"%\"\n",
    "\n",
    "print(\"AUC: \",  AUC)\n",
    "print(\"Recall: \",  Recall)\n",
    "print(\"Precision: \",  Precision)\n",
    "print(\"Accuracy: \",  Accuracy)\n",
    "results = pd.DataFrame(data={'Model': \"LR\", 'AUC': [AUC], 'Recall': [Recall], 'Precision': [Precision], 'Accuracy': [Accuracy]})"
   ]
  },
  {
   "cell_type": "code",
   "execution_count": 21,
   "metadata": {},
   "outputs": [
    {
     "data": {
      "image/png": "[encoded data removed]",
      "text/plain": [
       "<Figure size 432x288 with 2 Axes>"
      ]
     },
     "metadata": {
      "needs_background": "light"
     },
     "output_type": "display_data"
    }
   ],
   "source": [
    "import seaborn as sns\n",
    "plt.title('Confusion matrix for for Logistic Regression Classifier')\n",
    "sns.heatmap(confusion_matrix(y_test, predicted), annot=True, cmap=\"YlGn\",fmt=\"d\")\n",
    "plt.xlabel('Predicted classes')\n",
    "plt.ylabel('True Classes')\n",
    "plt.show()"
   ]
  },
  {
   "cell_type": "markdown",
   "metadata": {},
   "source": [
    "## Logistic Regression via SMOTE Sampling "
   ]
  },
  {
   "cell_type": "code",
   "execution_count": 22,
   "metadata": {},
   "outputs": [],
   "source": [
    "from imblearn.over_sampling import SMOTE\n",
    "\n",
    "sm = SMOTE(random_state=12)\n",
    "x_train_res, y_train_res = sm.fit_sample(X_train, y_train)"
   ]
  },
  {
   "cell_type": "code",
   "execution_count": 23,
   "metadata": {},
   "outputs": [],
   "source": [
    "clf_sm = LogisticRegression(random_state=0, max_iter=4000).fit(x_train_res, np.ravel(y_train_res))\n",
    "predicted_sm = clf_sm.predict(X_test)"
   ]
  },
  {
   "cell_type": "code",
   "execution_count": 24,
   "metadata": {},
   "outputs": [
    {
     "name": "stdout",
     "output_type": "stream",
     "text": [
      "AUC:  64.66%\n",
      "Recall:  56.8%\n",
      "Precision:  1.23%\n",
      "Accuracy:  72.42%\n"
     ]
    }
   ],
   "source": [
    "AUC = str(round(roc_auc_score(y_test, predicted_sm)*100, 2)) + \"%\"\n",
    "Recall = str(round(recall_score(y_test, predicted_sm)*100, 2)) + \"%\"\n",
    "Precision = str(round(precision_score(y_test, predicted_sm)*100, 2)) + \"%\"\n",
    "Accuracy = str(round(accuracy_score(y_test, predicted_sm)*100, 2)) + \"%\"\n",
    "\n",
    "print(\"AUC: \",  AUC)\n",
    "print(\"Recall: \",  Recall)\n",
    "print(\"Precision: \",  Precision)\n",
    "print(\"Accuracy: \",  Accuracy)\n",
    "curr_results = pd.DataFrame(data={'Model': \"LR SMOTE\", 'AUC': [AUC], 'Recall': [Recall], 'Precision': [Precision], 'Accuracy': [Accuracy]})"
   ]
  },
  {
   "cell_type": "code",
   "execution_count": 25,
   "metadata": {},
   "outputs": [],
   "source": [
    "results = results.append(curr_results)"
   ]
  },
  {
   "cell_type": "code",
   "execution_count": 26,
   "metadata": {},
   "outputs": [
    {
     "data": {
      "image/png": "[encoded data removed]",
      "text/plain": [
       "<Figure size 432x288 with 2 Axes>"
      ]
     },
     "metadata": {
      "needs_background": "light"
     },
     "output_type": "display_data"
    }
   ],
   "source": [
    "plt.title('Confusion matrix for for Logistic Regression Classifier')\n",
    "sns.heatmap(confusion_matrix(y_test, predicted_sm), annot=True, cmap=\"YlGn\",fmt=\"d\")\n",
    "plt.xlabel('Predicted classes')\n",
    "plt.ylabel('True Classes')\n",
    "plt.show()"
   ]
  },
  {
   "cell_type": "markdown",
   "metadata": {},
   "source": [
    "## Logistic Regression vis Class Balanced "
   ]
  },
  {
   "cell_type": "code",
   "execution_count": 27,
   "metadata": {},
   "outputs": [
    {
     "name": "stdout",
     "output_type": "stream",
     "text": [
      "AUC:  69.81%\n",
      "Recall:  44.0%\n",
      "Precision:  5.69%\n",
      "Accuracy:  95.31%\n"
     ]
    }
   ],
   "source": [
    "clf_bal = LogisticRegression(random_state=0, class_weight='balanced').fit(X_train, np.ravel(y_train))\n",
    "predicted_bal = clf_bal.predict(X_test)\n",
    "AUC = str(round(roc_auc_score(y_test, predicted_bal)*100, 2)) + \"%\"\n",
    "Recall = str(round(recall_score(y_test, predicted_bal)*100, 2)) + \"%\"\n",
    "Precision = str(round(precision_score(y_test, predicted_bal)*100, 2)) + \"%\"\n",
    "Accuracy = str(round(accuracy_score(y_test, predicted_bal)*100, 2)) + \"%\"\n",
    "\n",
    "print(\"AUC: \",  AUC)\n",
    "print(\"Recall: \",  Recall)\n",
    "print(\"Precision: \",  Precision)\n",
    "print(\"Accuracy: \",  Accuracy)\n",
    "\n",
    "curr_results = pd.DataFrame(data={'Model': \"LR Class Weights\", 'AUC': [AUC], 'Recall': [Recall], 'Precision': [Precision], 'Accuracy': [Accuracy]})\n",
    "results = results.append(curr_results)"
   ]
  },
  {
   "cell_type": "code",
   "execution_count": 28,
   "metadata": {},
   "outputs": [
    {
     "data": {
      "image/png": "[encoded data removed]",
      "text/plain": [
       "<Figure size 432x288 with 2 Axes>"
      ]
     },
     "metadata": {
      "needs_background": "light"
     },
     "output_type": "display_data"
    }
   ],
   "source": [
    "plt.title('Confusion matrix for for Logistic Regression Classifier')\n",
    "sns.heatmap(confusion_matrix(y_test, predicted_bal), annot=True, cmap=\"YlGn\",fmt=\"d\")\n",
    "plt.xlabel('Predicted classes')\n",
    "plt.ylabel('True Classes')\n",
    "plt.show()"
   ]
  },
  {
   "cell_type": "code",
   "execution_count": 29,
   "metadata": {},
   "outputs": [],
   "source": [
    "train_down = pd.concat([X_train.reset_index(), pd.DataFrame(y_train, columns=['BK'])], axis=1)"
   ]
  },
  {
   "cell_type": "code",
   "execution_count": 30,
   "metadata": {},
   "outputs": [
    {
     "data": {
      "text/html": [
       "<div>\n",
       "<style scoped>\n",
       "    .dataframe tbody tr th:only-of-type {\n",
       "        vertical-align: middle;\n",
       "    }\n",
       "\n",
       "    .dataframe tbody tr th {\n",
       "        vertical-align: top;\n",
       "    }\n",
       "\n",
       "    .dataframe thead th {\n",
       "        text-align: right;\n",
       "    }\n",
       "</style>\n",
       "<table border=\"1\" class=\"dataframe\">\n",
       "  <thead>\n",
       "    <tr style=\"text-align: right;\">\n",
       "      <th></th>\n",
       "      <th>counts</th>\n",
       "      <th>percentage</th>\n",
       "    </tr>\n",
       "  </thead>\n",
       "  <tbody>\n",
       "    <tr>\n",
       "      <th>0.0</th>\n",
       "      <td>62311</td>\n",
       "      <td>99.398609</td>\n",
       "    </tr>\n",
       "    <tr>\n",
       "      <th>1.0</th>\n",
       "      <td>377</td>\n",
       "      <td>0.601391</td>\n",
       "    </tr>\n",
       "  </tbody>\n",
       "</table>\n",
       "</div>"
      ],
      "text/plain": [
       "     counts  percentage\n",
       "0.0   62311   99.398609\n",
       "1.0     377    0.601391"
      ]
     },
     "execution_count": 30,
     "metadata": {},
     "output_type": "execute_result"
    }
   ],
   "source": [
    "count_col=train_down['BK']\n",
    "pd.concat([count_col.value_counts(), \n",
    "                count_col.value_counts(normalize=True).mul(100)],axis=1, keys=('counts','percentage'))"
   ]
  },
  {
   "cell_type": "markdown",
   "metadata": {},
   "source": [
    "## Up-Sampling Technique "
   ]
  },
  {
   "cell_type": "code",
   "execution_count": 31,
   "metadata": {},
   "outputs": [],
   "source": [
    "# Reference: https://elitedatascience.com/imbalanced-classes\n",
    "from sklearn.utils import resample\n",
    "\n",
    "# Separate majority and minority classes\n",
    "train_majority = df[df.BK==0.0]\n",
    "train_minority = df[df.BK==1.0]\n",
    " \n",
    "# Downsample majority class\n",
    "train_minority_up = resample(train_minority, \n",
    "                                 replace=True,    # sample without replacement\n",
    "                                 n_samples=73852,     # to match minority class\n",
    "                                 random_state=123) # reproducible results\n",
    " \n",
    "# Combine minority class with downsampled majority class\n",
    "train_upsampled = pd.concat([train_minority_up, train_majority])"
   ]
  },
  {
   "cell_type": "code",
   "execution_count": 32,
   "metadata": {},
   "outputs": [],
   "source": [
    "Xup = train_upsampled[categorical_vars+continuous_vars]\n",
    "yup = train_upsampled[dep_var]\n",
    "\n"
   ]
  },
  {
   "cell_type": "code",
   "execution_count": 33,
   "metadata": {
    "scrolled": true
   },
   "outputs": [
    {
     "name": "stdout",
     "output_type": "stream",
     "text": [
      "(166166, 14)\n",
      "(166166, 1)\n"
     ]
    }
   ],
   "source": [
    "print(Xup.shape)\n",
    "print(yup.shape)"
   ]
  },
  {
   "cell_type": "markdown",
   "metadata": {},
   "source": [
    "## Logistic Regression Up Sample "
   ]
  },
  {
   "cell_type": "code",
   "execution_count": 34,
   "metadata": {},
   "outputs": [
    {
     "name": "stdout",
     "output_type": "stream",
     "text": [
      "AUC:  51.85%\n",
      "Recall:  4.0%\n",
      "Precision:  7.35%\n",
      "Accuracy:  99.12%\n"
     ]
    }
   ],
   "source": [
    "clf_up = LogisticRegression(random_state=0).fit(Xup, np.ravel(yup))\n",
    "predict_up = clf_up.predict(X_test)\n",
    "\n",
    "AUC = str(round(roc_auc_score(y_test, predict_up)*100, 2)) + \"%\"\n",
    "Recall = str(round(recall_score(y_test, predict_up)*100, 2)) + \"%\"\n",
    "Precision = str(round(precision_score(y_test, predict_up)*100, 2)) + \"%\"\n",
    "Accuracy = str(round(accuracy_score(y_test, predict_up)*100, 2)) + \"%\"\n",
    "\n",
    "print(\"AUC: \",  AUC)\n",
    "print(\"Recall: \",  Recall)\n",
    "print(\"Precision: \",  Precision)\n",
    "print(\"Accuracy: \",  Accuracy)\n",
    "curr_results = pd.DataFrame(data={'Model': \"LR UP Sampled\", 'AUC': [AUC], 'Recall': [Recall], 'Precision': [Precision], 'Accuracy': [Accuracy]})\n",
    "results = results.append(curr_results)"
   ]
  },
  {
   "cell_type": "code",
   "execution_count": 59,
   "metadata": {},
   "outputs": [
    {
     "data": {
      "image/png": "[encoded data removed]",
      "text/plain": [
       "<Figure size 432x288 with 2 Axes>"
      ]
     },
     "metadata": {
      "needs_background": "light"
     },
     "output_type": "display_data"
    }
   ],
   "source": [
    "plt.title('Confusion matrix for for Logistic Regression Classifier UpSampling')\n",
    "sns.heatmap(confusion_matrix(y_test, predict_up), annot=True, cmap=\"YlGn\",fmt=\"d\")\n",
    "plt.xlabel('Predicted classes')\n",
    "plt.ylabel('True Classes')\n",
    "plt.show()"
   ]
  },
  {
   "cell_type": "markdown",
   "metadata": {},
   "source": [
    "## Random Forest "
   ]
  },
  {
   "cell_type": "code",
   "execution_count": 54,
   "metadata": {},
   "outputs": [
    {
     "name": "stdout",
     "output_type": "stream",
     "text": [
      "AUC:  50.4%\n",
      "Recall:  0.8%\n",
      "Precision:  50.0%\n",
      "Accuracy:  99.4%\n"
     ]
    }
   ],
   "source": [
    "clf_rf2 = RandomForestClassifier(random_state=0).fit(X_train, np.ravel(y_train))\n",
    "predict_rf2 = clf_rf2.predict(X_test)\n",
    "AUC = str(round(roc_auc_score(y_test, predict_rf2)*100, 2)) + \"%\"\n",
    "Recall = str(round(recall_score(y_test, predict_rf2)*100, 2)) + \"%\"\n",
    "Precision = str(round(precision_score(y_test, predict_rf2)*100, 2)) + \"%\"\n",
    "Accuracy = str(round(accuracy_score(y_test, predict_rf2)*100, 2)) + \"%\"\n",
    "\n",
    "print(\"AUC: \",  AUC)\n",
    "print(\"Recall: \",  Recall)\n",
    "print(\"Precision: \",  Precision)\n",
    "print(\"Accuracy: \",  Accuracy)\n",
    "curr_results = pd.DataFrame(data={'Model': \"Random Forest\", 'AUC': [AUC], 'Recall': [Recall], 'Precision': [Precision], 'Accuracy': [Accuracy]})\n",
    "results = results.append(curr_results)"
   ]
  },
  {
   "cell_type": "code",
   "execution_count": 57,
   "metadata": {},
   "outputs": [
    {
     "data": {
      "image/png": "[encoded data removed]",
      "text/plain": [
       "<Figure size 432x288 with 2 Axes>"
      ]
     },
     "metadata": {
      "needs_background": "light"
     },
     "output_type": "display_data"
    }
   ],
   "source": [
    "plt.title('Confusion matrix for Random Forest Classifier')\n",
    "sns.heatmap(confusion_matrix(y_test, predict_rf2), annot=True, cmap=\"YlGn\",fmt=\"d\")\n",
    "plt.xlabel('Predicted classes')\n",
    "plt.ylabel('True Classes')\n",
    "plt.show()"
   ]
  },
  {
   "cell_type": "markdown",
   "metadata": {},
   "source": [
    "## Random Forest UP SAMPLE"
   ]
  },
  {
   "cell_type": "code",
   "execution_count": 52,
   "metadata": {},
   "outputs": [
    {
     "name": "stdout",
     "output_type": "stream",
     "text": [
      "AUC:  97.45%\n",
      "Recall:  99.2%\n",
      "Precision:  12.18%\n",
      "Accuracy:  95.72%\n"
     ]
    }
   ],
   "source": [
    "\n",
    "clf_rf = RandomForestClassifier(max_depth=8, random_state=0).fit(Xup, np.ravel(yup))\n",
    "predict_rf = clf_rf.predict(X_test)\n",
    "\n",
    "AUC = str(round(roc_auc_score(y_test, predict_rf)*100, 2)) + \"%\"\n",
    "Recall = str(round(recall_score(y_test, predict_rf)*100, 2)) + \"%\"\n",
    "Precision = str(round(precision_score(y_test, predict_rf)*100, 2)) + \"%\"\n",
    "Accuracy = str(round(accuracy_score(y_test, predict_rf)*100, 2)) + \"%\"\n",
    "\n",
    "print(\"AUC: \",  AUC)\n",
    "print(\"Recall: \",  Recall)\n",
    "print(\"Precision: \",  Precision)\n",
    "print(\"Accuracy: \",  Accuracy)\n",
    "curr_results = pd.DataFrame(data={'Model': \"Random Forest UP\", 'AUC': [AUC], 'Recall': [Recall], 'Precision': [Precision], 'Accuracy': [Accuracy]})\n",
    "results = results.append(curr_results)"
   ]
  },
  {
   "cell_type": "code",
   "execution_count": 55,
   "metadata": {},
   "outputs": [
    {
     "data": {
      "image/png": "[encoded data removed]",
      "text/plain": [
       "<Figure size 432x288 with 2 Axes>"
      ]
     },
     "metadata": {
      "needs_background": "light"
     },
     "output_type": "display_data"
    }
   ],
   "source": [
    "plt.title('Confusion matrix for Random Forest Classifier UPSample')\n",
    "sns.heatmap(confusion_matrix(y_test, predict_rf), annot=True, cmap=\"YlGn\",fmt=\"d\")\n",
    "plt.xlabel('Predicted classes')\n",
    "plt.ylabel('True Classes')\n",
    "plt.show()"
   ]
  },
  {
   "cell_type": "markdown",
   "metadata": {},
   "source": [
    "## Random Forest Class Weighted "
   ]
  },
  {
   "cell_type": "code",
   "execution_count": 36,
   "metadata": {},
   "outputs": [
    {
     "name": "stdout",
     "output_type": "stream",
     "text": [
      "AUC:  97.28%\n",
      "Recall:  98.4%\n",
      "Precision:  13.36%\n",
      "Accuracy:  96.17%\n"
     ]
    }
   ],
   "source": [
    "\n",
    "clf_rf = RandomForestClassifier(max_depth=8, random_state=0, class_weight='balanced').fit(X_new, np.ravel(y_new))\n",
    "predict_rf = clf_rf.predict(X_test)\n",
    "\n",
    "AUC = str(round(roc_auc_score(y_test, predict_rf)*100, 2)) + \"%\"\n",
    "Recall = str(round(recall_score(y_test, predict_rf)*100, 2)) + \"%\"\n",
    "Precision = str(round(precision_score(y_test, predict_rf)*100, 2)) + \"%\"\n",
    "Accuracy = str(round(accuracy_score(y_test, predict_rf)*100, 2)) + \"%\"\n",
    "\n",
    "print(\"AUC: \",  AUC)\n",
    "print(\"Recall: \",  Recall)\n",
    "print(\"Precision: \",  Precision)\n",
    "print(\"Accuracy: \",  Accuracy)\n",
    "curr_results = pd.DataFrame(data={'Model': \"Random Forest CW\", 'AUC': [AUC], 'Recall': [Recall], 'Precision': [Precision], 'Accuracy': [Accuracy]})\n",
    "results = results.append(curr_results)"
   ]
  },
  {
   "cell_type": "code",
   "execution_count": 68,
   "metadata": {},
   "outputs": [
    {
     "name": "stdout",
     "output_type": "stream",
     "text": [
      "Parameters currently in use for rf\n",
      "{'bootstrap': True, 'ccp_alpha': 0.0, 'class_weight': None, 'criterion': 'gini', 'max_depth': 8, 'max_features': 'auto', 'max_leaf_nodes': None, 'max_samples': None, 'min_impurity_decrease': 0.0, 'min_impurity_split': None, 'min_samples_leaf': 1, 'min_samples_split': 2, 'min_weight_fraction_leaf': 0.0, 'n_estimators': 100, 'n_jobs': None, 'oob_score': False, 'random_state': 0, 'verbose': 0, 'warm_start': False}\n"
     ]
    }
   ],
   "source": [
    "print('Parameters currently in use for rf')\n",
    "print(clf_rf.get_params())"
   ]
  },
  {
   "cell_type": "code",
   "execution_count": 38,
   "metadata": {},
   "outputs": [
    {
     "data": {
      "image/png": "[encoded data removed]",
      "text/plain": [
       "<Figure size 432x288 with 2 Axes>"
      ]
     },
     "metadata": {
      "needs_background": "light"
     },
     "output_type": "display_data"
    }
   ],
   "source": [
    "plt.title('Confusion matrix for Random Forest Classifier')\n",
    "sns.heatmap(confusion_matrix(y_test, predict_rf), annot=True, cmap=\"YlGn\",fmt=\"d\")\n",
    "plt.xlabel('Predicted classes')\n",
    "plt.ylabel('True Classes')\n",
    "plt.show()"
   ]
  },
  {
   "cell_type": "markdown",
   "metadata": {},
   "source": [
    "## Random Forest without sampling "
   ]
  },
  {
   "cell_type": "markdown",
   "metadata": {},
   "source": [
    "## Naive Bayes Upsampling "
   ]
  },
  {
   "cell_type": "code",
   "execution_count": 40,
   "metadata": {},
   "outputs": [
    {
     "name": "stdout",
     "output_type": "stream",
     "text": [
      "AUC:  52.19%\n",
      "Recall:  98.4%\n",
      "Precision:  0.63%\n",
      "Accuracy:  6.53%\n"
     ]
    }
   ],
   "source": [
    "from sklearn.naive_bayes import GaussianNB\n",
    "clf_nb = GaussianNB().fit(Xup, np.ravel(yup))\n",
    "predict_nb = clf_nb.predict(X_test)\n",
    "\n",
    "AUC = str(round(roc_auc_score(y_test, predict_nb)*100, 2)) + \"%\"\n",
    "Recall = str(round(recall_score(y_test, predict_nb)*100, 2)) + \"%\"\n",
    "Precision = str(round(precision_score(y_test, predict_nb)*100, 2)) + \"%\"\n",
    "Accuracy = str(round(accuracy_score(y_test, predict_nb)*100, 2)) + \"%\"\n",
    "\n",
    "print(\"AUC: \",  AUC)\n",
    "print(\"Recall: \",  Recall)\n",
    "print(\"Precision: \",  Precision)\n",
    "print(\"Accuracy: \",  Accuracy)\n",
    "curr_results = pd.DataFrame(data={'Model': \"Naive Bayes UP\", 'AUC': [AUC], 'Recall': [Recall], 'Precision': [Precision], 'Accuracy': [Accuracy]})\n",
    "results = results.append(curr_results)"
   ]
  },
  {
   "cell_type": "markdown",
   "metadata": {},
   "source": [
    "## Results "
   ]
  },
  {
   "cell_type": "code",
   "execution_count": 50,
   "metadata": {},
   "outputs": [
    {
     "data": {
      "text/html": [
       "<div>\n",
       "<style scoped>\n",
       "    .dataframe tbody tr th:only-of-type {\n",
       "        vertical-align: middle;\n",
       "    }\n",
       "\n",
       "    .dataframe tbody tr th {\n",
       "        vertical-align: top;\n",
       "    }\n",
       "\n",
       "    .dataframe thead th {\n",
       "        text-align: right;\n",
       "    }\n",
       "</style>\n",
       "<table border=\"1\" class=\"dataframe\">\n",
       "  <thead>\n",
       "    <tr style=\"text-align: right;\">\n",
       "      <th></th>\n",
       "      <th>Model</th>\n",
       "      <th>AUC</th>\n",
       "      <th>Recall</th>\n",
       "      <th>Precision</th>\n",
       "      <th>Accuracy</th>\n",
       "    </tr>\n",
       "  </thead>\n",
       "  <tbody>\n",
       "    <tr>\n",
       "      <th>0</th>\n",
       "      <td>LR</td>\n",
       "      <td>50.0%</td>\n",
       "      <td>0.0%</td>\n",
       "      <td>0.0%</td>\n",
       "      <td>99.4%</td>\n",
       "    </tr>\n",
       "    <tr>\n",
       "      <th>0</th>\n",
       "      <td>LR SMOTE</td>\n",
       "      <td>64.66%</td>\n",
       "      <td>56.8%</td>\n",
       "      <td>1.23%</td>\n",
       "      <td>72.42%</td>\n",
       "    </tr>\n",
       "    <tr>\n",
       "      <th>0</th>\n",
       "      <td>LR Class Weights</td>\n",
       "      <td>69.81%</td>\n",
       "      <td>44.0%</td>\n",
       "      <td>5.69%</td>\n",
       "      <td>95.31%</td>\n",
       "    </tr>\n",
       "    <tr>\n",
       "      <th>0</th>\n",
       "      <td>LR UP Sampled</td>\n",
       "      <td>51.85%</td>\n",
       "      <td>4.0%</td>\n",
       "      <td>7.35%</td>\n",
       "      <td>99.12%</td>\n",
       "    </tr>\n",
       "    <tr>\n",
       "      <th>0</th>\n",
       "      <td>Random Forest UP</td>\n",
       "      <td>97.45%</td>\n",
       "      <td>99.2%</td>\n",
       "      <td>12.18%</td>\n",
       "      <td>95.72%</td>\n",
       "    </tr>\n",
       "    <tr>\n",
       "      <th>0</th>\n",
       "      <td>Random Forest CW</td>\n",
       "      <td>97.28%</td>\n",
       "      <td>98.4%</td>\n",
       "      <td>13.36%</td>\n",
       "      <td>96.17%</td>\n",
       "    </tr>\n",
       "    <tr>\n",
       "      <th>0</th>\n",
       "      <td>Random Forest</td>\n",
       "      <td>50.4%</td>\n",
       "      <td>0.8%</td>\n",
       "      <td>50.0%</td>\n",
       "      <td>99.4%</td>\n",
       "    </tr>\n",
       "    <tr>\n",
       "      <th>0</th>\n",
       "      <td>Naive Bayes UP</td>\n",
       "      <td>52.19%</td>\n",
       "      <td>98.4%</td>\n",
       "      <td>0.63%</td>\n",
       "      <td>6.53%</td>\n",
       "    </tr>\n",
       "  </tbody>\n",
       "</table>\n",
       "</div>"
      ],
      "text/plain": [
       "              Model     AUC Recall Precision Accuracy\n",
       "0                LR   50.0%   0.0%      0.0%    99.4%\n",
       "0          LR SMOTE  64.66%  56.8%     1.23%   72.42%\n",
       "0  LR Class Weights  69.81%  44.0%     5.69%   95.31%\n",
       "0     LR UP Sampled  51.85%   4.0%     7.35%   99.12%\n",
       "0  Random Forest UP  97.45%  99.2%    12.18%   95.72%\n",
       "0  Random Forest CW  97.28%  98.4%    13.36%   96.17%\n",
       "0     Random Forest   50.4%   0.8%     50.0%    99.4%\n",
       "0    Naive Bayes UP  52.19%  98.4%     0.63%    6.53%"
      ]
     },
     "execution_count": 50,
     "metadata": {},
     "output_type": "execute_result"
    }
   ],
   "source": [
    "results"
   ]
  },
  {
   "cell_type": "markdown",
   "metadata": {},
   "source": [
    "## Hyperparameter Tuning "
   ]
  },
  {
   "cell_type": "markdown",
   "metadata": {},
   "source": [
    "## Random Forest "
   ]
  },
  {
   "cell_type": "code",
   "execution_count": 60,
   "metadata": {},
   "outputs": [],
   "source": [
    "param_grid = {'n_estimators': [100, 200, 300,400,500]\n",
    "               ,'min_samples_split': [1, 2, 4]\n",
    "              }\n",
    "\n",
    "scoring = {'AUC': 'roc_auc', 'Accuracy': 'accuracy', 'Recall': 'recall', 'Precision': 'precision'}\n",
    "\n",
    "#https://scikit-learn.org/stable/modules/model_evaluation.html#scoring-parameter\n",
    "#https://scikit-learn.org/stable/auto_examples/model_selection/plot_multi_metric_evaluation.html#sphx-glr-auto-examples-model-selection-plot-multi-metric-evaluation-py"
   ]
  },
  {
   "cell_type": "code",
   "execution_count": 61,
   "metadata": {},
   "outputs": [
    {
     "data": {
      "text/plain": [
       "GridSearchCV(cv=5,\n",
       "             estimator=RandomForestClassifier(class_weight='balanced',\n",
       "                                              max_depth=8, random_state=0),\n",
       "             param_grid={'min_samples_split': [1, 2, 4],\n",
       "                         'n_estimators': [100, 200, 300, 400, 500]},\n",
       "             refit='AUC',\n",
       "             scoring={'AUC': 'roc_auc', 'Accuracy': 'accuracy',\n",
       "                      'Precision': 'precision', 'Recall': 'recall'})"
      ]
     },
     "execution_count": 61,
     "metadata": {},
     "output_type": "execute_result"
    }
   ],
   "source": [
    "#https://stackoverflow.com/questions/52196422/finding-accuracy-precision-and-recall-of-a-model-after-hyperparameter-tuning-in\n",
    "grid_search_rf = GridSearchCV(estimator=RandomForestClassifier(max_depth=8, random_state=0, class_weight='balanced'), \n",
    "                               param_grid=param_grid,\n",
    "                               scoring=scoring, refit='AUC',\n",
    "                               cv=5)\n",
    "# last, we fit our data. This will take a while...\n",
    "grid_search_rf.fit(X=X_new, y=np.ravel(y_new))"
   ]
  },
  {
   "cell_type": "code",
   "execution_count": 62,
   "metadata": {},
   "outputs": [],
   "source": [
    "AUC = str(round(grid_search_rf.best_score_*100, 2)) + \"%\"\n",
    "Recall = str(round(grid_search_rf.cv_results_['mean_test_Recall'][grid_search_rf.cv_results_['params'].index(grid_search_rf.best_params_)]*100, 2)) + \"%\"\n",
    "Precision = str(round(grid_search_rf.cv_results_['mean_test_Precision'][grid_search_rf.cv_results_['params'].index(grid_search_rf.best_params_)]*100, 2)) + \"%\"\n",
    "Accuracy = str(round(grid_search_rf.cv_results_['mean_test_Accuracy'][grid_search_rf.cv_results_['params'].index(grid_search_rf.best_params_)]*100, 2)) + \"%\"\n",
    "res_grid = pd.DataFrame(data={'Model': \"Random Forest\", 'AUC': [AUC], 'Recall': [Recall], 'Precision': [Precision], 'Accuracy': [Accuracy]})"
   ]
  },
  {
   "cell_type": "markdown",
   "metadata": {},
   "source": [
    "## Logistic Regression "
   ]
  },
  {
   "cell_type": "code",
   "execution_count": 66,
   "metadata": {},
   "outputs": [
    {
     "name": "stdout",
     "output_type": "stream",
     "text": [
      "Parameters currently in use for lr:\n",
      "\n",
      "{'C': 1.0, 'class_weight': 'balanced', 'dual': False, 'fit_intercept': True, 'intercept_scaling': 1, 'l1_ratio': None, 'max_iter': 100, 'multi_class': 'auto', 'n_jobs': None, 'penalty': 'l2', 'random_state': 0, 'solver': 'lbfgs', 'tol': 0.0001, 'verbose': 0, 'warm_start': False}\n"
     ]
    }
   ],
   "source": [
    "print('Parameters currently in use for lr:\\n')\n",
    "print(clf_bal.get_params())\n",
    "\n",
    "param_grid = {'C': [0.1, 1, 10] }\n",
    "#param_grid = {'C': [1, 10, 100]}\n",
    "\n",
    "#https://stackoverflow.com/questions/52196422/finding-accuracy-precision-and-recall-of-a-model-after-hyperparameter-tuning-in\n",
    "grid_search_lr = GridSearchCV(estimator=LogisticRegression(random_state=0, max_iter=1000, class_weight='balanced'), \n",
    "                              param_grid=param_grid,\n",
    "                              scoring=scoring, refit='AUC',\n",
    "                              cv=5)\n",
    "# last, we fit our data. This will take a while...\n",
    "grid_search_lr.fit(X=X_new, y=np.ravel(y_new))\n",
    "\n",
    "AUC = str(round(grid_search_lr.best_score_*100, 2)) + \"%\"\n",
    "Recall = str(round(grid_search_lr.cv_results_['mean_test_Recall'][grid_search_lr.cv_results_['params'].index(grid_search_lr.best_params_)]*100, 2)) + \"%\"\n",
    "Precision = str(round(grid_search_lr.cv_results_['mean_test_Precision'][grid_search_lr.cv_results_['params'].index(grid_search_lr.best_params_)]*100, 2)) + \"%\"\n",
    "Accuracy = str(round(grid_search_lr.cv_results_['mean_test_Accuracy'][grid_search_lr.cv_results_['params'].index(grid_search_lr.best_params_)]*100, 2)) + \"%\"\n",
    "curr_res_grid = pd.DataFrame(data={'Model': \"Logistic Regression\", 'AUC': [AUC], 'Recall': [Recall], 'Precision': [Precision], 'Accuracy': [Accuracy]})\n",
    "\n",
    "res_grid = res_grid.append(curr_res_grid)"
   ]
  },
  {
   "cell_type": "code",
   "execution_count": 67,
   "metadata": {},
   "outputs": [
    {
     "data": {
      "text/html": [
       "<div>\n",
       "<style scoped>\n",
       "    .dataframe tbody tr th:only-of-type {\n",
       "        vertical-align: middle;\n",
       "    }\n",
       "\n",
       "    .dataframe tbody tr th {\n",
       "        vertical-align: top;\n",
       "    }\n",
       "\n",
       "    .dataframe thead th {\n",
       "        text-align: right;\n",
       "    }\n",
       "</style>\n",
       "<table border=\"1\" class=\"dataframe\">\n",
       "  <thead>\n",
       "    <tr style=\"text-align: right;\">\n",
       "      <th></th>\n",
       "      <th>Model</th>\n",
       "      <th>AUC</th>\n",
       "      <th>Recall</th>\n",
       "      <th>Precision</th>\n",
       "      <th>Accuracy</th>\n",
       "    </tr>\n",
       "  </thead>\n",
       "  <tbody>\n",
       "    <tr>\n",
       "      <th>0</th>\n",
       "      <td>Random Forest</td>\n",
       "      <td>94.42%</td>\n",
       "      <td>65.94%</td>\n",
       "      <td>11.06%</td>\n",
       "      <td>96.57%</td>\n",
       "    </tr>\n",
       "    <tr>\n",
       "      <th>0</th>\n",
       "      <td>Logistic Regression</td>\n",
       "      <td>67.36%</td>\n",
       "      <td>57.98%</td>\n",
       "      <td>1.11%</td>\n",
       "      <td>68.88%</td>\n",
       "    </tr>\n",
       "  </tbody>\n",
       "</table>\n",
       "</div>"
      ],
      "text/plain": [
       "                 Model     AUC  Recall Precision Accuracy\n",
       "0        Random Forest  94.42%  65.94%    11.06%   96.57%\n",
       "0  Logistic Regression  67.36%  57.98%     1.11%   68.88%"
      ]
     },
     "execution_count": 67,
     "metadata": {},
     "output_type": "execute_result"
    }
   ],
   "source": [
    "res_grid"
   ]
  },
  {
   "cell_type": "markdown",
   "metadata": {},
   "source": [
    "## Performance on Holdout Set "
   ]
  },
  {
   "cell_type": "markdown",
   "metadata": {},
   "source": [
    "## Random Forest "
   ]
  },
  {
   "cell_type": "code",
   "execution_count": 47,
   "metadata": {},
   "outputs": [],
   "source": [
    "predict_rf = grid_search_rf.predict(X_holdout)\n",
    "AUC = str(round(roc_auc_score(y_holdout, predict_rf)*100, 2)) + \"%\"\n",
    "Recall = str(round(recall_score(y_holdout, predict_rf)*100, 2)) + \"%\"\n",
    "Precision = str(round(precision_score(y_holdout, predict_rf)*100, 2)) + \"%\"\n",
    "Accuracy = str(round(accuracy_score(y_holdout, predict_rf)*100, 2)) + \"%\"\n",
    "res_ho = pd.DataFrame(data={'Model': \"Random Forest\", 'AUC': [AUC], 'Recall': [Recall], 'Precision': [Precision], 'Accuracy': [Accuracy]})"
   ]
  },
  {
   "cell_type": "code",
   "execution_count": 48,
   "metadata": {},
   "outputs": [],
   "source": [
    "predict_lr = grid_search_lr.predict(X_holdout)\n",
    "AUC = str(round(roc_auc_score(y_holdout, predict_lr)*100, 2)) + \"%\"\n",
    "Recall = str(round(recall_score(y_holdout, predict_lr)*100, 2)) + \"%\"\n",
    "Precision = str(round(precision_score(y_holdout, predict_lr)*100, 2)) + \"%\"\n",
    "Accuracy = str(round(accuracy_score(y_holdout, predict_lr)*100, 2)) + \"%\"\n",
    "curr_res_ho = pd.DataFrame(data={'Model': \"Logistic Regression\", 'AUC': [AUC], 'Recall': [Recall], 'Precision': [Precision], 'Accuracy': [Accuracy]})\n",
    "\n",
    "res_ho = res_ho.append(curr_res_ho)"
   ]
  },
  {
   "cell_type": "code",
   "execution_count": 64,
   "metadata": {},
   "outputs": [
    {
     "data": {
      "text/html": [
       "<div>\n",
       "<style scoped>\n",
       "    .dataframe tbody tr th:only-of-type {\n",
       "        vertical-align: middle;\n",
       "    }\n",
       "\n",
       "    .dataframe tbody tr th {\n",
       "        vertical-align: top;\n",
       "    }\n",
       "\n",
       "    .dataframe thead th {\n",
       "        text-align: right;\n",
       "    }\n",
       "</style>\n",
       "<table border=\"1\" class=\"dataframe\">\n",
       "  <thead>\n",
       "    <tr style=\"text-align: right;\">\n",
       "      <th></th>\n",
       "      <th>Model</th>\n",
       "      <th>AUC</th>\n",
       "      <th>Recall</th>\n",
       "      <th>Precision</th>\n",
       "      <th>Accuracy</th>\n",
       "    </tr>\n",
       "  </thead>\n",
       "  <tbody>\n",
       "    <tr>\n",
       "      <th>0</th>\n",
       "      <td>Random Forest</td>\n",
       "      <td>80.2%</td>\n",
       "      <td>64.29%</td>\n",
       "      <td>9.14%</td>\n",
       "      <td>95.93%</td>\n",
       "    </tr>\n",
       "    <tr>\n",
       "      <th>0</th>\n",
       "      <td>Logistic Regression</td>\n",
       "      <td>65.53%</td>\n",
       "      <td>62.5%</td>\n",
       "      <td>1.19%</td>\n",
       "      <td>68.52%</td>\n",
       "    </tr>\n",
       "  </tbody>\n",
       "</table>\n",
       "</div>"
      ],
      "text/plain": [
       "                 Model     AUC  Recall Precision Accuracy\n",
       "0        Random Forest   80.2%  64.29%     9.14%   95.93%\n",
       "0  Logistic Regression  65.53%   62.5%     1.19%   68.52%"
      ]
     },
     "execution_count": 64,
     "metadata": {},
     "output_type": "execute_result"
    }
   ],
   "source": [
    "res_ho"
   ]
  }
 ],
 "metadata": {
  "kernelspec": {
   "display_name": "Python 3",
   "language": "python",
   "name": "python3"
  },
  "language_info": {
   "codemirror_mode": {
    "name": "ipython",
    "version": 3
   },
   "file_extension": ".py",
   "mimetype": "text/x-python",
   "name": "python",
   "nbconvert_exporter": "python",
   "pygments_lexer": "ipython3",
   "version": "3.7.6"
  }
 },
 "nbformat": 4,
 "nbformat_minor": 4
}
