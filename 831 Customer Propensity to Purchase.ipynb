{
 "cells": [
  {
   "cell_type": "markdown",
   "metadata": {},
   "source": [
    "# Data Understanding"
   ]
  },
  {
   "cell_type": "markdown",
   "metadata": {},
   "source": [
    "Link: https://www.kaggle.com/benpowis/customer-propensity-to-purchase-data"
   ]
  },
  {
   "cell_type": "code",
   "execution_count": 1,
   "metadata": {},
   "outputs": [],
   "source": [
    "import pandas as pd\n",
    "import numpy as np\n",
    "import matplotlib.pyplot as plt\n",
    "import seaborn as sns\n",
    "\n",
    "from IPython.core.interactiveshell import InteractiveShell\n",
    "InteractiveShell.ast_node_interactivity = \"all\"\n",
    "\n",
    "pd.set_option('display.max_columns', None)\n",
    "pd.set_option('display.max_rows', None)\n"
   ]
  },
  {
   "cell_type": "code",
   "execution_count": 2,
   "metadata": {},
   "outputs": [],
   "source": [
    "train = pd.read_csv(\"training_sample.csv\") \n",
    "test = pd.read_csv(\"testing_sample.csv\") "
   ]
  },
  {
   "cell_type": "code",
   "execution_count": 3,
   "metadata": {},
   "outputs": [
    {
     "name": "stdout",
     "output_type": "stream",
     "text": [
      "<class 'pandas.core.frame.DataFrame'>\n",
      "RangeIndex: 455401 entries, 0 to 455400\n",
      "Data columns (total 25 columns):\n",
      " #   Column                   Non-Null Count   Dtype \n",
      "---  ------                   --------------   ----- \n",
      " 0   UserID                   455401 non-null  object\n",
      " 1   basket_icon_click        455401 non-null  int64 \n",
      " 2   basket_add_list          455401 non-null  int64 \n",
      " 3   basket_add_detail        455401 non-null  int64 \n",
      " 4   sort_by                  455401 non-null  int64 \n",
      " 5   image_picker             455401 non-null  int64 \n",
      " 6   account_page_click       455401 non-null  int64 \n",
      " 7   promo_banner_click       455401 non-null  int64 \n",
      " 8   detail_wishlist_add      455401 non-null  int64 \n",
      " 9   list_size_dropdown       455401 non-null  int64 \n",
      " 10  closed_minibasket_click  455401 non-null  int64 \n",
      " 11  checked_delivery_detail  455401 non-null  int64 \n",
      " 12  checked_returns_detail   455401 non-null  int64 \n",
      " 13  sign_in                  455401 non-null  int64 \n",
      " 14  saw_checkout             455401 non-null  int64 \n",
      " 15  saw_sizecharts           455401 non-null  int64 \n",
      " 16  saw_delivery             455401 non-null  int64 \n",
      " 17  saw_account_upgrade      455401 non-null  int64 \n",
      " 18  saw_homepage             455401 non-null  int64 \n",
      " 19  device_mobile            455401 non-null  int64 \n",
      " 20  device_computer          455401 non-null  int64 \n",
      " 21  device_tablet            455401 non-null  int64 \n",
      " 22  returning_user           455401 non-null  int64 \n",
      " 23  loc_uk                   455401 non-null  int64 \n",
      " 24  ordered                  455401 non-null  int64 \n",
      "dtypes: int64(24), object(1)\n",
      "memory usage: 86.9+ MB\n"
     ]
    }
   ],
   "source": [
    "train.info()"
   ]
  },
  {
   "cell_type": "code",
   "execution_count": 4,
   "metadata": {},
   "outputs": [
    {
     "name": "stdout",
     "output_type": "stream",
     "text": [
      "<class 'pandas.core.frame.DataFrame'>\n",
      "RangeIndex: 151655 entries, 0 to 151654\n",
      "Data columns (total 25 columns):\n",
      " #   Column                   Non-Null Count   Dtype \n",
      "---  ------                   --------------   ----- \n",
      " 0   UserID                   151655 non-null  object\n",
      " 1   basket_icon_click        151655 non-null  int64 \n",
      " 2   basket_add_list          151655 non-null  int64 \n",
      " 3   basket_add_detail        151655 non-null  int64 \n",
      " 4   sort_by                  151655 non-null  int64 \n",
      " 5   image_picker             151655 non-null  int64 \n",
      " 6   account_page_click       151655 non-null  int64 \n",
      " 7   promo_banner_click       151655 non-null  int64 \n",
      " 8   detail_wishlist_add      151655 non-null  int64 \n",
      " 9   list_size_dropdown       151655 non-null  int64 \n",
      " 10  closed_minibasket_click  151655 non-null  int64 \n",
      " 11  checked_delivery_detail  151655 non-null  int64 \n",
      " 12  checked_returns_detail   151655 non-null  int64 \n",
      " 13  sign_in                  151655 non-null  int64 \n",
      " 14  saw_checkout             151655 non-null  int64 \n",
      " 15  saw_sizecharts           151655 non-null  int64 \n",
      " 16  saw_delivery             151655 non-null  int64 \n",
      " 17  saw_account_upgrade      151655 non-null  int64 \n",
      " 18  saw_homepage             151655 non-null  int64 \n",
      " 19  device_mobile            151655 non-null  int64 \n",
      " 20  device_computer          151655 non-null  int64 \n",
      " 21  device_tablet            151655 non-null  int64 \n",
      " 22  returning_user           151655 non-null  int64 \n",
      " 23  loc_uk                   151655 non-null  int64 \n",
      " 24  ordered                  151655 non-null  int64 \n",
      "dtypes: int64(24), object(1)\n",
      "memory usage: 28.9+ MB\n"
     ]
    }
   ],
   "source": [
    "test.info()"
   ]
  },
  {
   "cell_type": "code",
   "execution_count": 5,
   "metadata": {},
   "outputs": [
    {
     "data": {
      "text/html": [
       "<div>\n",
       "<style scoped>\n",
       "    .dataframe tbody tr th:only-of-type {\n",
       "        vertical-align: middle;\n",
       "    }\n",
       "\n",
       "    .dataframe tbody tr th {\n",
       "        vertical-align: top;\n",
       "    }\n",
       "\n",
       "    .dataframe thead th {\n",
       "        text-align: right;\n",
       "    }\n",
       "</style>\n",
       "<table border=\"1\" class=\"dataframe\">\n",
       "  <thead>\n",
       "    <tr style=\"text-align: right;\">\n",
       "      <th></th>\n",
       "      <th>basket_icon_click</th>\n",
       "      <th>basket_add_list</th>\n",
       "      <th>basket_add_detail</th>\n",
       "      <th>sort_by</th>\n",
       "      <th>image_picker</th>\n",
       "      <th>account_page_click</th>\n",
       "      <th>promo_banner_click</th>\n",
       "      <th>detail_wishlist_add</th>\n",
       "      <th>list_size_dropdown</th>\n",
       "      <th>closed_minibasket_click</th>\n",
       "      <th>checked_delivery_detail</th>\n",
       "      <th>checked_returns_detail</th>\n",
       "      <th>sign_in</th>\n",
       "      <th>saw_checkout</th>\n",
       "      <th>saw_sizecharts</th>\n",
       "      <th>saw_delivery</th>\n",
       "      <th>saw_account_upgrade</th>\n",
       "      <th>saw_homepage</th>\n",
       "      <th>device_mobile</th>\n",
       "      <th>device_computer</th>\n",
       "      <th>device_tablet</th>\n",
       "      <th>returning_user</th>\n",
       "      <th>loc_uk</th>\n",
       "      <th>ordered</th>\n",
       "    </tr>\n",
       "  </thead>\n",
       "  <tbody>\n",
       "    <tr>\n",
       "      <th>count</th>\n",
       "      <td>455401.000000</td>\n",
       "      <td>455401.000000</td>\n",
       "      <td>455401.000000</td>\n",
       "      <td>455401.000000</td>\n",
       "      <td>455401.000000</td>\n",
       "      <td>455401.000000</td>\n",
       "      <td>455401.000000</td>\n",
       "      <td>455401.000000</td>\n",
       "      <td>455401.000000</td>\n",
       "      <td>455401.000000</td>\n",
       "      <td>455401.000000</td>\n",
       "      <td>455401.000000</td>\n",
       "      <td>455401.000000</td>\n",
       "      <td>455401.000000</td>\n",
       "      <td>455401.000000</td>\n",
       "      <td>455401.000000</td>\n",
       "      <td>455401.000000</td>\n",
       "      <td>455401.000000</td>\n",
       "      <td>455401.000000</td>\n",
       "      <td>455401.000000</td>\n",
       "      <td>455401.000000</td>\n",
       "      <td>455401.000000</td>\n",
       "      <td>455401.000000</td>\n",
       "      <td>455401.000000</td>\n",
       "    </tr>\n",
       "    <tr>\n",
       "      <th>mean</th>\n",
       "      <td>0.099150</td>\n",
       "      <td>0.074521</td>\n",
       "      <td>0.112916</td>\n",
       "      <td>0.036849</td>\n",
       "      <td>0.026735</td>\n",
       "      <td>0.003570</td>\n",
       "      <td>0.016208</td>\n",
       "      <td>0.003511</td>\n",
       "      <td>0.230362</td>\n",
       "      <td>0.017277</td>\n",
       "      <td>0.062874</td>\n",
       "      <td>0.009179</td>\n",
       "      <td>0.088810</td>\n",
       "      <td>0.080085</td>\n",
       "      <td>0.000389</td>\n",
       "      <td>0.005542</td>\n",
       "      <td>0.001096</td>\n",
       "      <td>0.290024</td>\n",
       "      <td>0.680706</td>\n",
       "      <td>0.194220</td>\n",
       "      <td>0.128364</td>\n",
       "      <td>0.534915</td>\n",
       "      <td>0.933224</td>\n",
       "      <td>0.041926</td>\n",
       "    </tr>\n",
       "    <tr>\n",
       "      <th>std</th>\n",
       "      <td>0.298864</td>\n",
       "      <td>0.262617</td>\n",
       "      <td>0.316490</td>\n",
       "      <td>0.188391</td>\n",
       "      <td>0.161307</td>\n",
       "      <td>0.059647</td>\n",
       "      <td>0.126274</td>\n",
       "      <td>0.059151</td>\n",
       "      <td>0.421065</td>\n",
       "      <td>0.130302</td>\n",
       "      <td>0.242737</td>\n",
       "      <td>0.095365</td>\n",
       "      <td>0.284469</td>\n",
       "      <td>0.271426</td>\n",
       "      <td>0.019711</td>\n",
       "      <td>0.074241</td>\n",
       "      <td>0.033084</td>\n",
       "      <td>0.453773</td>\n",
       "      <td>0.466204</td>\n",
       "      <td>0.395599</td>\n",
       "      <td>0.334495</td>\n",
       "      <td>0.498780</td>\n",
       "      <td>0.249634</td>\n",
       "      <td>0.200420</td>\n",
       "    </tr>\n",
       "    <tr>\n",
       "      <th>min</th>\n",
       "      <td>0.000000</td>\n",
       "      <td>0.000000</td>\n",
       "      <td>0.000000</td>\n",
       "      <td>0.000000</td>\n",
       "      <td>0.000000</td>\n",
       "      <td>0.000000</td>\n",
       "      <td>0.000000</td>\n",
       "      <td>0.000000</td>\n",
       "      <td>0.000000</td>\n",
       "      <td>0.000000</td>\n",
       "      <td>0.000000</td>\n",
       "      <td>0.000000</td>\n",
       "      <td>0.000000</td>\n",
       "      <td>0.000000</td>\n",
       "      <td>0.000000</td>\n",
       "      <td>0.000000</td>\n",
       "      <td>0.000000</td>\n",
       "      <td>0.000000</td>\n",
       "      <td>0.000000</td>\n",
       "      <td>0.000000</td>\n",
       "      <td>0.000000</td>\n",
       "      <td>0.000000</td>\n",
       "      <td>0.000000</td>\n",
       "      <td>0.000000</td>\n",
       "    </tr>\n",
       "    <tr>\n",
       "      <th>25%</th>\n",
       "      <td>0.000000</td>\n",
       "      <td>0.000000</td>\n",
       "      <td>0.000000</td>\n",
       "      <td>0.000000</td>\n",
       "      <td>0.000000</td>\n",
       "      <td>0.000000</td>\n",
       "      <td>0.000000</td>\n",
       "      <td>0.000000</td>\n",
       "      <td>0.000000</td>\n",
       "      <td>0.000000</td>\n",
       "      <td>0.000000</td>\n",
       "      <td>0.000000</td>\n",
       "      <td>0.000000</td>\n",
       "      <td>0.000000</td>\n",
       "      <td>0.000000</td>\n",
       "      <td>0.000000</td>\n",
       "      <td>0.000000</td>\n",
       "      <td>0.000000</td>\n",
       "      <td>0.000000</td>\n",
       "      <td>0.000000</td>\n",
       "      <td>0.000000</td>\n",
       "      <td>0.000000</td>\n",
       "      <td>1.000000</td>\n",
       "      <td>0.000000</td>\n",
       "    </tr>\n",
       "    <tr>\n",
       "      <th>50%</th>\n",
       "      <td>0.000000</td>\n",
       "      <td>0.000000</td>\n",
       "      <td>0.000000</td>\n",
       "      <td>0.000000</td>\n",
       "      <td>0.000000</td>\n",
       "      <td>0.000000</td>\n",
       "      <td>0.000000</td>\n",
       "      <td>0.000000</td>\n",
       "      <td>0.000000</td>\n",
       "      <td>0.000000</td>\n",
       "      <td>0.000000</td>\n",
       "      <td>0.000000</td>\n",
       "      <td>0.000000</td>\n",
       "      <td>0.000000</td>\n",
       "      <td>0.000000</td>\n",
       "      <td>0.000000</td>\n",
       "      <td>0.000000</td>\n",
       "      <td>0.000000</td>\n",
       "      <td>1.000000</td>\n",
       "      <td>0.000000</td>\n",
       "      <td>0.000000</td>\n",
       "      <td>1.000000</td>\n",
       "      <td>1.000000</td>\n",
       "      <td>0.000000</td>\n",
       "    </tr>\n",
       "    <tr>\n",
       "      <th>75%</th>\n",
       "      <td>0.000000</td>\n",
       "      <td>0.000000</td>\n",
       "      <td>0.000000</td>\n",
       "      <td>0.000000</td>\n",
       "      <td>0.000000</td>\n",
       "      <td>0.000000</td>\n",
       "      <td>0.000000</td>\n",
       "      <td>0.000000</td>\n",
       "      <td>0.000000</td>\n",
       "      <td>0.000000</td>\n",
       "      <td>0.000000</td>\n",
       "      <td>0.000000</td>\n",
       "      <td>0.000000</td>\n",
       "      <td>0.000000</td>\n",
       "      <td>0.000000</td>\n",
       "      <td>0.000000</td>\n",
       "      <td>0.000000</td>\n",
       "      <td>1.000000</td>\n",
       "      <td>1.000000</td>\n",
       "      <td>0.000000</td>\n",
       "      <td>0.000000</td>\n",
       "      <td>1.000000</td>\n",
       "      <td>1.000000</td>\n",
       "      <td>0.000000</td>\n",
       "    </tr>\n",
       "    <tr>\n",
       "      <th>max</th>\n",
       "      <td>1.000000</td>\n",
       "      <td>1.000000</td>\n",
       "      <td>1.000000</td>\n",
       "      <td>1.000000</td>\n",
       "      <td>1.000000</td>\n",
       "      <td>1.000000</td>\n",
       "      <td>1.000000</td>\n",
       "      <td>1.000000</td>\n",
       "      <td>1.000000</td>\n",
       "      <td>1.000000</td>\n",
       "      <td>1.000000</td>\n",
       "      <td>1.000000</td>\n",
       "      <td>1.000000</td>\n",
       "      <td>1.000000</td>\n",
       "      <td>1.000000</td>\n",
       "      <td>1.000000</td>\n",
       "      <td>1.000000</td>\n",
       "      <td>1.000000</td>\n",
       "      <td>1.000000</td>\n",
       "      <td>1.000000</td>\n",
       "      <td>1.000000</td>\n",
       "      <td>1.000000</td>\n",
       "      <td>1.000000</td>\n",
       "      <td>1.000000</td>\n",
       "    </tr>\n",
       "  </tbody>\n",
       "</table>\n",
       "</div>"
      ],
      "text/plain": [
       "       basket_icon_click  basket_add_list  basket_add_detail        sort_by  \\\n",
       "count      455401.000000    455401.000000      455401.000000  455401.000000   \n",
       "mean            0.099150         0.074521           0.112916       0.036849   \n",
       "std             0.298864         0.262617           0.316490       0.188391   \n",
       "min             0.000000         0.000000           0.000000       0.000000   \n",
       "25%             0.000000         0.000000           0.000000       0.000000   \n",
       "50%             0.000000         0.000000           0.000000       0.000000   \n",
       "75%             0.000000         0.000000           0.000000       0.000000   \n",
       "max             1.000000         1.000000           1.000000       1.000000   \n",
       "\n",
       "        image_picker  account_page_click  promo_banner_click  \\\n",
       "count  455401.000000       455401.000000       455401.000000   \n",
       "mean        0.026735            0.003570            0.016208   \n",
       "std         0.161307            0.059647            0.126274   \n",
       "min         0.000000            0.000000            0.000000   \n",
       "25%         0.000000            0.000000            0.000000   \n",
       "50%         0.000000            0.000000            0.000000   \n",
       "75%         0.000000            0.000000            0.000000   \n",
       "max         1.000000            1.000000            1.000000   \n",
       "\n",
       "       detail_wishlist_add  list_size_dropdown  closed_minibasket_click  \\\n",
       "count        455401.000000       455401.000000            455401.000000   \n",
       "mean              0.003511            0.230362                 0.017277   \n",
       "std               0.059151            0.421065                 0.130302   \n",
       "min               0.000000            0.000000                 0.000000   \n",
       "25%               0.000000            0.000000                 0.000000   \n",
       "50%               0.000000            0.000000                 0.000000   \n",
       "75%               0.000000            0.000000                 0.000000   \n",
       "max               1.000000            1.000000                 1.000000   \n",
       "\n",
       "       checked_delivery_detail  checked_returns_detail        sign_in  \\\n",
       "count            455401.000000           455401.000000  455401.000000   \n",
       "mean                  0.062874                0.009179       0.088810   \n",
       "std                   0.242737                0.095365       0.284469   \n",
       "min                   0.000000                0.000000       0.000000   \n",
       "25%                   0.000000                0.000000       0.000000   \n",
       "50%                   0.000000                0.000000       0.000000   \n",
       "75%                   0.000000                0.000000       0.000000   \n",
       "max                   1.000000                1.000000       1.000000   \n",
       "\n",
       "        saw_checkout  saw_sizecharts   saw_delivery  saw_account_upgrade  \\\n",
       "count  455401.000000   455401.000000  455401.000000        455401.000000   \n",
       "mean        0.080085        0.000389       0.005542             0.001096   \n",
       "std         0.271426        0.019711       0.074241             0.033084   \n",
       "min         0.000000        0.000000       0.000000             0.000000   \n",
       "25%         0.000000        0.000000       0.000000             0.000000   \n",
       "50%         0.000000        0.000000       0.000000             0.000000   \n",
       "75%         0.000000        0.000000       0.000000             0.000000   \n",
       "max         1.000000        1.000000       1.000000             1.000000   \n",
       "\n",
       "        saw_homepage  device_mobile  device_computer  device_tablet  \\\n",
       "count  455401.000000  455401.000000    455401.000000  455401.000000   \n",
       "mean        0.290024       0.680706         0.194220       0.128364   \n",
       "std         0.453773       0.466204         0.395599       0.334495   \n",
       "min         0.000000       0.000000         0.000000       0.000000   \n",
       "25%         0.000000       0.000000         0.000000       0.000000   \n",
       "50%         0.000000       1.000000         0.000000       0.000000   \n",
       "75%         1.000000       1.000000         0.000000       0.000000   \n",
       "max         1.000000       1.000000         1.000000       1.000000   \n",
       "\n",
       "       returning_user         loc_uk        ordered  \n",
       "count   455401.000000  455401.000000  455401.000000  \n",
       "mean         0.534915       0.933224       0.041926  \n",
       "std          0.498780       0.249634       0.200420  \n",
       "min          0.000000       0.000000       0.000000  \n",
       "25%          0.000000       1.000000       0.000000  \n",
       "50%          1.000000       1.000000       0.000000  \n",
       "75%          1.000000       1.000000       0.000000  \n",
       "max          1.000000       1.000000       1.000000  "
      ]
     },
     "execution_count": 5,
     "metadata": {},
     "output_type": "execute_result"
    }
   ],
   "source": [
    "train.describe()"
   ]
  },
  {
   "cell_type": "code",
   "execution_count": 6,
   "metadata": {},
   "outputs": [
    {
     "data": {
      "image/png": "[encoded data removed]",
      "text/plain": [
       "<Figure size 936x936 with 2 Axes>"
      ]
     },
     "metadata": {
      "needs_background": "light"
     },
     "output_type": "display_data"
    }
   ],
   "source": [
    "## Code modified from: https://towardsdatascience.com/why-feature-correlation-matters-a-lot-847e8ba439c4\n",
    "def correlation_heatmap(df):\n",
    "    correlations = df.corr()\n",
    "\n",
    "    fig, ax = plt.subplots(figsize=(13,13))\n",
    "    sns.heatmap(correlations, vmax=1.0, center=0, fmt='.2f',\n",
    "                square=True, linewidths=.5, annot=True, cbar_kws={\"shrink\": .70})\n",
    "    plt.show();\n",
    "    \n",
    "correlation_heatmap(train)"
   ]
  },
  {
   "cell_type": "markdown",
   "metadata": {},
   "source": [
    "Since we are trying to predict if people ordered, we should remove checked delivery detail (if user is checking if the item was delivered, they already ordered) and saw checkout (only see checkout after they decided to order)."
   ]
  },
  {
   "cell_type": "code",
   "execution_count": 7,
   "metadata": {},
   "outputs": [],
   "source": [
    "train = train.drop(['checked_delivery_detail', 'saw_checkout', 'sign_in'], axis=1)"
   ]
  },
  {
   "cell_type": "markdown",
   "metadata": {},
   "source": [
    "## Value Counts"
   ]
  },
  {
   "cell_type": "code",
   "execution_count": 8,
   "metadata": {},
   "outputs": [
    {
     "data": {
      "text/html": [
       "<div>\n",
       "<style scoped>\n",
       "    .dataframe tbody tr th:only-of-type {\n",
       "        vertical-align: middle;\n",
       "    }\n",
       "\n",
       "    .dataframe tbody tr th {\n",
       "        vertical-align: top;\n",
       "    }\n",
       "\n",
       "    .dataframe thead th {\n",
       "        text-align: right;\n",
       "    }\n",
       "</style>\n",
       "<table border=\"1\" class=\"dataframe\">\n",
       "  <thead>\n",
       "    <tr style=\"text-align: right;\">\n",
       "      <th></th>\n",
       "      <th>counts</th>\n",
       "      <th>percentage</th>\n",
       "    </tr>\n",
       "  </thead>\n",
       "  <tbody>\n",
       "    <tr>\n",
       "      <th>0</th>\n",
       "      <td>436308</td>\n",
       "      <td>95.807431</td>\n",
       "    </tr>\n",
       "    <tr>\n",
       "      <th>1</th>\n",
       "      <td>19093</td>\n",
       "      <td>4.192569</td>\n",
       "    </tr>\n",
       "  </tbody>\n",
       "</table>\n",
       "</div>"
      ],
      "text/plain": [
       "   counts  percentage\n",
       "0  436308   95.807431\n",
       "1   19093    4.192569"
      ]
     },
     "execution_count": 8,
     "metadata": {},
     "output_type": "execute_result"
    }
   ],
   "source": [
    "count_col=train['ordered']\n",
    "pd.concat([count_col.value_counts(), \n",
    "                count_col.value_counts(normalize=True).mul(100)],axis=1, keys=('counts','percentage'))"
   ]
  },
  {
   "cell_type": "markdown",
   "metadata": {},
   "source": [
    "* Need to balance the data\n",
    "* https://scikit-learn.org/stable/modules/ensemble.html#voting-classifier\n",
    "* https://scikit-learn.org/stable/modules/grid_search.html\n",
    "* https://www.kaggle.com/sigmaset/hyperparameter-tuning-ensemble-methods\n",
    "\n",
    "Classifiers:\n",
    "1 - Logistic Regression \n",
    "2 - KNN\n",
    "3 - Random Forest\n",
    "4 - Naive Bayes\n",
    "5 - XGBoost"
   ]
  },
  {
   "cell_type": "markdown",
   "metadata": {},
   "source": [
    "# Modelling\n",
    "## Baseline Model"
   ]
  },
  {
   "cell_type": "code",
   "execution_count": 9,
   "metadata": {},
   "outputs": [],
   "source": [
    "from sklearn.model_selection import train_test_split\n",
    "from sklearn.metrics import accuracy_score, f1_score, confusion_matrix\n",
    "from sklearn.neighbors import KNeighborsClassifier\n",
    "from sklearn.ensemble import RandomForestClassifier\n",
    "from sklearn.linear_model import LogisticRegression\n",
    "from sklearn.naive_bayes import GaussianNB\n",
    "from sklearn.ensemble import GradientBoostingClassifier\n",
    "from sklearn.svm import SVC\n",
    "from sklearn.model_selection import cross_val_score, cross_validate, GridSearchCV\n",
    "from sklearn.metrics import roc_auc_score, precision_score, recall_score"
   ]
  },
  {
   "cell_type": "markdown",
   "metadata": {},
   "source": [
    "### Logistic Regression"
   ]
  },
  {
   "cell_type": "code",
   "execution_count": 10,
   "metadata": {},
   "outputs": [],
   "source": [
    "X = train.iloc[:,1:-1]\n",
    "y = train[['ordered']].values"
   ]
  },
  {
   "cell_type": "code",
   "execution_count": 11,
   "metadata": {},
   "outputs": [
    {
     "name": "stdout",
     "output_type": "stream",
     "text": [
      "(409860, 20) (45541, 20) (409860, 1) (45541, 1)\n"
     ]
    }
   ],
   "source": [
    "# Modified from: https://www.scikit-yb.org/en/latest/tutorial.html\n",
    "\n",
    "X_new, X_holdout, y_new, y_holdout = train_test_split(X, y, test_size=0.1, random_state=123,stratify=y)\n",
    "\n",
    "print(X_new.shape, X_holdout.shape, y_new.shape, y_holdout.shape)"
   ]
  },
  {
   "cell_type": "code",
   "execution_count": 12,
   "metadata": {},
   "outputs": [
    {
     "name": "stdout",
     "output_type": "stream",
     "text": [
      "(307395, 20) (102465, 20) (307395, 1) (102465, 1)\n"
     ]
    }
   ],
   "source": [
    "X_train, X_test, y_train, y_test = train_test_split(X_new, y_new, test_size=0.25, random_state=123,stratify=y_new)\n",
    "\n",
    "print(X_train.shape, X_test.shape, y_train.shape, y_test.shape)"
   ]
  },
  {
   "cell_type": "code",
   "execution_count": 13,
   "metadata": {},
   "outputs": [
    {
     "data": {
      "text/html": [
       "<div>\n",
       "<style scoped>\n",
       "    .dataframe tbody tr th:only-of-type {\n",
       "        vertical-align: middle;\n",
       "    }\n",
       "\n",
       "    .dataframe tbody tr th {\n",
       "        vertical-align: top;\n",
       "    }\n",
       "\n",
       "    .dataframe thead th {\n",
       "        text-align: right;\n",
       "    }\n",
       "</style>\n",
       "<table border=\"1\" class=\"dataframe\">\n",
       "  <thead>\n",
       "    <tr style=\"text-align: right;\">\n",
       "      <th></th>\n",
       "      <th>basket_icon_click</th>\n",
       "      <th>basket_add_list</th>\n",
       "      <th>basket_add_detail</th>\n",
       "      <th>sort_by</th>\n",
       "      <th>image_picker</th>\n",
       "      <th>account_page_click</th>\n",
       "      <th>promo_banner_click</th>\n",
       "      <th>detail_wishlist_add</th>\n",
       "      <th>list_size_dropdown</th>\n",
       "      <th>closed_minibasket_click</th>\n",
       "      <th>checked_returns_detail</th>\n",
       "      <th>saw_sizecharts</th>\n",
       "      <th>saw_delivery</th>\n",
       "      <th>saw_account_upgrade</th>\n",
       "      <th>saw_homepage</th>\n",
       "      <th>device_mobile</th>\n",
       "      <th>device_computer</th>\n",
       "      <th>device_tablet</th>\n",
       "      <th>returning_user</th>\n",
       "      <th>loc_uk</th>\n",
       "    </tr>\n",
       "  </thead>\n",
       "  <tbody>\n",
       "    <tr>\n",
       "      <th>105486</th>\n",
       "      <td>0</td>\n",
       "      <td>0</td>\n",
       "      <td>0</td>\n",
       "      <td>0</td>\n",
       "      <td>0</td>\n",
       "      <td>0</td>\n",
       "      <td>0</td>\n",
       "      <td>0</td>\n",
       "      <td>0</td>\n",
       "      <td>0</td>\n",
       "      <td>0</td>\n",
       "      <td>0</td>\n",
       "      <td>0</td>\n",
       "      <td>0</td>\n",
       "      <td>0</td>\n",
       "      <td>1</td>\n",
       "      <td>0</td>\n",
       "      <td>0</td>\n",
       "      <td>0</td>\n",
       "      <td>1</td>\n",
       "    </tr>\n",
       "    <tr>\n",
       "      <th>37076</th>\n",
       "      <td>0</td>\n",
       "      <td>0</td>\n",
       "      <td>0</td>\n",
       "      <td>0</td>\n",
       "      <td>0</td>\n",
       "      <td>0</td>\n",
       "      <td>0</td>\n",
       "      <td>0</td>\n",
       "      <td>0</td>\n",
       "      <td>0</td>\n",
       "      <td>0</td>\n",
       "      <td>0</td>\n",
       "      <td>0</td>\n",
       "      <td>0</td>\n",
       "      <td>0</td>\n",
       "      <td>1</td>\n",
       "      <td>0</td>\n",
       "      <td>0</td>\n",
       "      <td>1</td>\n",
       "      <td>1</td>\n",
       "    </tr>\n",
       "    <tr>\n",
       "      <th>406793</th>\n",
       "      <td>0</td>\n",
       "      <td>0</td>\n",
       "      <td>0</td>\n",
       "      <td>0</td>\n",
       "      <td>0</td>\n",
       "      <td>0</td>\n",
       "      <td>0</td>\n",
       "      <td>0</td>\n",
       "      <td>0</td>\n",
       "      <td>0</td>\n",
       "      <td>0</td>\n",
       "      <td>0</td>\n",
       "      <td>0</td>\n",
       "      <td>0</td>\n",
       "      <td>0</td>\n",
       "      <td>1</td>\n",
       "      <td>0</td>\n",
       "      <td>0</td>\n",
       "      <td>1</td>\n",
       "      <td>1</td>\n",
       "    </tr>\n",
       "    <tr>\n",
       "      <th>19468</th>\n",
       "      <td>0</td>\n",
       "      <td>0</td>\n",
       "      <td>0</td>\n",
       "      <td>0</td>\n",
       "      <td>0</td>\n",
       "      <td>0</td>\n",
       "      <td>0</td>\n",
       "      <td>0</td>\n",
       "      <td>0</td>\n",
       "      <td>0</td>\n",
       "      <td>0</td>\n",
       "      <td>0</td>\n",
       "      <td>0</td>\n",
       "      <td>0</td>\n",
       "      <td>0</td>\n",
       "      <td>0</td>\n",
       "      <td>1</td>\n",
       "      <td>0</td>\n",
       "      <td>0</td>\n",
       "      <td>0</td>\n",
       "    </tr>\n",
       "    <tr>\n",
       "      <th>288035</th>\n",
       "      <td>0</td>\n",
       "      <td>0</td>\n",
       "      <td>0</td>\n",
       "      <td>0</td>\n",
       "      <td>0</td>\n",
       "      <td>0</td>\n",
       "      <td>0</td>\n",
       "      <td>0</td>\n",
       "      <td>0</td>\n",
       "      <td>0</td>\n",
       "      <td>0</td>\n",
       "      <td>0</td>\n",
       "      <td>0</td>\n",
       "      <td>0</td>\n",
       "      <td>0</td>\n",
       "      <td>0</td>\n",
       "      <td>1</td>\n",
       "      <td>0</td>\n",
       "      <td>1</td>\n",
       "      <td>1</td>\n",
       "    </tr>\n",
       "  </tbody>\n",
       "</table>\n",
       "</div>"
      ],
      "text/plain": [
       "        basket_icon_click  basket_add_list  basket_add_detail  sort_by  \\\n",
       "105486                  0                0                  0        0   \n",
       "37076                   0                0                  0        0   \n",
       "406793                  0                0                  0        0   \n",
       "19468                   0                0                  0        0   \n",
       "288035                  0                0                  0        0   \n",
       "\n",
       "        image_picker  account_page_click  promo_banner_click  \\\n",
       "105486             0                   0                   0   \n",
       "37076              0                   0                   0   \n",
       "406793             0                   0                   0   \n",
       "19468              0                   0                   0   \n",
       "288035             0                   0                   0   \n",
       "\n",
       "        detail_wishlist_add  list_size_dropdown  closed_minibasket_click  \\\n",
       "105486                    0                   0                        0   \n",
       "37076                     0                   0                        0   \n",
       "406793                    0                   0                        0   \n",
       "19468                     0                   0                        0   \n",
       "288035                    0                   0                        0   \n",
       "\n",
       "        checked_returns_detail  saw_sizecharts  saw_delivery  \\\n",
       "105486                       0               0             0   \n",
       "37076                        0               0             0   \n",
       "406793                       0               0             0   \n",
       "19468                        0               0             0   \n",
       "288035                       0               0             0   \n",
       "\n",
       "        saw_account_upgrade  saw_homepage  device_mobile  device_computer  \\\n",
       "105486                    0             0              1                0   \n",
       "37076                     0             0              1                0   \n",
       "406793                    0             0              1                0   \n",
       "19468                     0             0              0                1   \n",
       "288035                    0             0              0                1   \n",
       "\n",
       "        device_tablet  returning_user  loc_uk  \n",
       "105486              0               0       1  \n",
       "37076               0               1       1  \n",
       "406793              0               1       1  \n",
       "19468               0               0       0  \n",
       "288035              0               1       1  "
      ]
     },
     "execution_count": 13,
     "metadata": {},
     "output_type": "execute_result"
    }
   ],
   "source": [
    "X_train.head()"
   ]
  },
  {
   "cell_type": "code",
   "execution_count": 14,
   "metadata": {},
   "outputs": [
    {
     "name": "stdout",
     "output_type": "stream",
     "text": [
      "AUC:  61.29%\n",
      "Recall:  23.81%\n",
      "Precision:  45.71%\n",
      "Accuracy:  95.62%\n"
     ]
    }
   ],
   "source": [
    "clf = LogisticRegression(random_state=0).fit(X_train, np.ravel(y_train))\n",
    "predicted = clf.predict(X_test)\n",
    "\n",
    "AUC = str(round(roc_auc_score(y_test, predicted)*100, 2)) + \"%\"\n",
    "Recall = str(round(recall_score(y_test, predicted)*100, 2)) + \"%\"\n",
    "Precision = str(round(precision_score(y_test, predicted)*100, 2)) + \"%\"\n",
    "Accuracy = str(round(accuracy_score(y_test, predicted)*100, 2)) + \"%\"\n",
    "\n",
    "print(\"AUC: \",  AUC)\n",
    "print(\"Recall: \",  Recall)\n",
    "print(\"Precision: \",  Precision)\n",
    "print(\"Accuracy: \",  Accuracy)\n",
    "results = pd.DataFrame(data={'Model': \"LR\", 'AUC': [AUC], 'Recall': [Recall], 'Precision': [Precision], 'Accuracy': [Accuracy]})"
   ]
  },
  {
   "cell_type": "code",
   "execution_count": 15,
   "metadata": {},
   "outputs": [
    {
     "data": {
      "text/plain": [
       "Text(0.5, 1.0, 'Confusion matrix for for Logistic Regression Classifier')"
      ]
     },
     "execution_count": 15,
     "metadata": {},
     "output_type": "execute_result"
    },
    {
     "data": {
      "text/plain": [
       "<AxesSubplot:title={'center':'Confusion matrix for for Logistic Regression Classifier'}>"
      ]
     },
     "execution_count": 15,
     "metadata": {},
     "output_type": "execute_result"
    },
    {
     "data": {
      "text/plain": [
       "Text(0.5, 15.0, 'Predicted classes')"
      ]
     },
     "execution_count": 15,
     "metadata": {},
     "output_type": "execute_result"
    },
    {
     "data": {
      "text/plain": [
       "Text(33.0, 0.5, 'True Classes')"
      ]
     },
     "execution_count": 15,
     "metadata": {},
     "output_type": "execute_result"
    },
    {
     "data": {
      "image/png": "[encoded data removed]",
      "text/plain": [
       "<Figure size 432x288 with 2 Axes>"
      ]
     },
     "metadata": {
      "needs_background": "light"
     },
     "output_type": "display_data"
    }
   ],
   "source": [
    "plt.title('Confusion matrix for for Logistic Regression Classifier')\n",
    "sns.heatmap(confusion_matrix(y_test, predicted), annot=True, cmap=\"YlGn\",fmt=\"d\")\n",
    "plt.xlabel('Predicted classes')\n",
    "plt.ylabel('True Classes')\n",
    "plt.show()"
   ]
  },
  {
   "cell_type": "markdown",
   "metadata": {},
   "source": [
    "### Logistic Regression with SMOTE"
   ]
  },
  {
   "cell_type": "markdown",
   "metadata": {},
   "source": [
    "The default classifier is pretty good. Will SMOTE make a difference?"
   ]
  },
  {
   "cell_type": "code",
   "execution_count": 16,
   "metadata": {},
   "outputs": [],
   "source": [
    "from imblearn.over_sampling import SMOTE\n",
    "\n",
    "sm = SMOTE(random_state=12)\n",
    "x_train_res, y_train_res = sm.fit_sample(X_train, y_train)"
   ]
  },
  {
   "cell_type": "code",
   "execution_count": 17,
   "metadata": {},
   "outputs": [],
   "source": [
    "clf_sm = LogisticRegression(random_state=0, max_iter=4000).fit(x_train_res, np.ravel(y_train_res))\n",
    "predicted_sm = clf_sm.predict(X_test)"
   ]
  },
  {
   "cell_type": "code",
   "execution_count": 18,
   "metadata": {},
   "outputs": [
    {
     "name": "stdout",
     "output_type": "stream",
     "text": [
      "AUC:  90.54%\n",
      "Recall:  91.95%\n",
      "Precision:  27.02%\n",
      "Accuracy:  89.25%\n"
     ]
    }
   ],
   "source": [
    "AUC = str(round(roc_auc_score(y_test, predicted_sm)*100, 2)) + \"%\"\n",
    "Recall = str(round(recall_score(y_test, predicted_sm)*100, 2)) + \"%\"\n",
    "Precision = str(round(precision_score(y_test, predicted_sm)*100, 2)) + \"%\"\n",
    "Accuracy = str(round(accuracy_score(y_test, predicted_sm)*100, 2)) + \"%\"\n",
    "\n",
    "print(\"AUC: \",  AUC)\n",
    "print(\"Recall: \",  Recall)\n",
    "print(\"Precision: \",  Precision)\n",
    "print(\"Accuracy: \",  Accuracy)\n",
    "curr_results = pd.DataFrame(data={'Model': \"LR SMOTE\", 'AUC': [AUC], 'Recall': [Recall], 'Precision': [Precision], 'Accuracy': [Accuracy]})"
   ]
  },
  {
   "cell_type": "code",
   "execution_count": 19,
   "metadata": {},
   "outputs": [],
   "source": [
    "results = results.append(curr_results)"
   ]
  },
  {
   "cell_type": "code",
   "execution_count": 20,
   "metadata": {},
   "outputs": [
    {
     "data": {
      "text/plain": [
       "Text(0.5, 1.0, 'Confusion matrix for for Logistic Regression Classifier')"
      ]
     },
     "execution_count": 20,
     "metadata": {},
     "output_type": "execute_result"
    },
    {
     "data": {
      "text/plain": [
       "<AxesSubplot:title={'center':'Confusion matrix for for Logistic Regression Classifier'}>"
      ]
     },
     "execution_count": 20,
     "metadata": {},
     "output_type": "execute_result"
    },
    {
     "data": {
      "text/plain": [
       "Text(0.5, 15.0, 'Predicted classes')"
      ]
     },
     "execution_count": 20,
     "metadata": {},
     "output_type": "execute_result"
    },
    {
     "data": {
      "text/plain": [
       "Text(33.0, 0.5, 'True Classes')"
      ]
     },
     "execution_count": 20,
     "metadata": {},
     "output_type": "execute_result"
    },
    {
     "data": {
      "image/png": "[encoded data removed]",
      "text/plain": [
       "<Figure size 432x288 with 2 Axes>"
      ]
     },
     "metadata": {
      "needs_background": "light"
     },
     "output_type": "display_data"
    }
   ],
   "source": [
    "plt.title('Confusion matrix for for Logistic Regression Classifier')\n",
    "sns.heatmap(confusion_matrix(y_test, predicted_sm), annot=True, cmap=\"YlGn\",fmt=\"d\")\n",
    "plt.xlabel('Predicted classes')\n",
    "plt.ylabel('True Classes')\n",
    "plt.show()"
   ]
  },
  {
   "cell_type": "markdown",
   "metadata": {},
   "source": [
    "### Logistic Regression with Class Balancing"
   ]
  },
  {
   "cell_type": "code",
   "execution_count": 21,
   "metadata": {},
   "outputs": [
    {
     "name": "stdout",
     "output_type": "stream",
     "text": [
      "AUC:  89.71%\n",
      "Recall:  89.48%\n",
      "Precision:  28.01%\n",
      "Accuracy:  89.92%\n"
     ]
    }
   ],
   "source": [
    "clf_bal = LogisticRegression(random_state=0, class_weight='balanced').fit(X_train, np.ravel(y_train))\n",
    "predicted_bal = clf_bal.predict(X_test)\n",
    "AUC = str(round(roc_auc_score(y_test, predicted_bal)*100, 2)) + \"%\"\n",
    "Recall = str(round(recall_score(y_test, predicted_bal)*100, 2)) + \"%\"\n",
    "Precision = str(round(precision_score(y_test, predicted_bal)*100, 2)) + \"%\"\n",
    "Accuracy = str(round(accuracy_score(y_test, predicted_bal)*100, 2)) + \"%\"\n",
    "\n",
    "print(\"AUC: \",  AUC)\n",
    "print(\"Recall: \",  Recall)\n",
    "print(\"Precision: \",  Precision)\n",
    "print(\"Accuracy: \",  Accuracy)\n",
    "\n",
    "curr_results = pd.DataFrame(data={'Model': \"LR Class Balancing\", 'AUC': [AUC], 'Recall': [Recall], 'Precision': [Precision], 'Accuracy': [Accuracy]})\n",
    "results = results.append(curr_results)"
   ]
  },
  {
   "cell_type": "markdown",
   "metadata": {},
   "source": [
    "### Logistic Regression with Down Sampling"
   ]
  },
  {
   "cell_type": "code",
   "execution_count": 22,
   "metadata": {},
   "outputs": [],
   "source": [
    "train_down = pd.concat([X_train.reset_index(), pd.DataFrame(y_train, columns=['ordered'])], axis=1)"
   ]
  },
  {
   "cell_type": "code",
   "execution_count": 23,
   "metadata": {},
   "outputs": [
    {
     "data": {
      "text/html": [
       "<div>\n",
       "<style scoped>\n",
       "    .dataframe tbody tr th:only-of-type {\n",
       "        vertical-align: middle;\n",
       "    }\n",
       "\n",
       "    .dataframe tbody tr th {\n",
       "        vertical-align: top;\n",
       "    }\n",
       "\n",
       "    .dataframe thead th {\n",
       "        text-align: right;\n",
       "    }\n",
       "</style>\n",
       "<table border=\"1\" class=\"dataframe\">\n",
       "  <thead>\n",
       "    <tr style=\"text-align: right;\">\n",
       "      <th></th>\n",
       "      <th>counts</th>\n",
       "      <th>percentage</th>\n",
       "    </tr>\n",
       "  </thead>\n",
       "  <tbody>\n",
       "    <tr>\n",
       "      <th>0</th>\n",
       "      <td>294507</td>\n",
       "      <td>95.807349</td>\n",
       "    </tr>\n",
       "    <tr>\n",
       "      <th>1</th>\n",
       "      <td>12888</td>\n",
       "      <td>4.192651</td>\n",
       "    </tr>\n",
       "  </tbody>\n",
       "</table>\n",
       "</div>"
      ],
      "text/plain": [
       "   counts  percentage\n",
       "0  294507   95.807349\n",
       "1   12888    4.192651"
      ]
     },
     "execution_count": 23,
     "metadata": {},
     "output_type": "execute_result"
    }
   ],
   "source": [
    "count_col=train_down['ordered']\n",
    "pd.concat([count_col.value_counts(), \n",
    "                count_col.value_counts(normalize=True).mul(100)],axis=1, keys=('counts','percentage'))"
   ]
  },
  {
   "cell_type": "code",
   "execution_count": 24,
   "metadata": {},
   "outputs": [],
   "source": [
    "# Reference: https://elitedatascience.com/imbalanced-classes\n",
    "from sklearn.utils import resample\n",
    "\n",
    "# Separate majority and minority classes\n",
    "train_majority = train_down[train_down.ordered==0.0]\n",
    "train_minority = train_down[train_down.ordered==1.0]\n",
    " \n",
    "# Downsample majority class\n",
    "train_majority_down = resample(train_majority, \n",
    "                                 replace=False,    # sample without replacement\n",
    "                                 n_samples=12888,     # to match minority class\n",
    "                                 random_state=123) # reproducible results\n",
    " \n",
    "# Combine minority class with downsampled majority class\n",
    "train_downsampled = pd.concat([train_majority_down, train_minority])"
   ]
  },
  {
   "cell_type": "code",
   "execution_count": 25,
   "metadata": {},
   "outputs": [],
   "source": [
    "Xdown = train_downsampled.iloc[:,1:-1]\n",
    "ydown = train_downsampled[['ordered']].values"
   ]
  },
  {
   "cell_type": "code",
   "execution_count": 26,
   "metadata": {},
   "outputs": [
    {
     "name": "stdout",
     "output_type": "stream",
     "text": [
      "(25776, 20)\n",
      "(25776, 1)\n"
     ]
    }
   ],
   "source": [
    "print(Xdown.shape)\n",
    "print(ydown.shape)"
   ]
  },
  {
   "cell_type": "code",
   "execution_count": 27,
   "metadata": {},
   "outputs": [
    {
     "name": "stdout",
     "output_type": "stream",
     "text": [
      "AUC:  89.64%\n",
      "Recall:  89.18%\n",
      "Precision:  28.28%\n",
      "Accuracy:  90.06%\n"
     ]
    }
   ],
   "source": [
    "clf_down = LogisticRegression(random_state=0).fit(Xdown, np.ravel(ydown))\n",
    "predict_down = clf_down.predict(X_test)\n",
    "\n",
    "AUC = str(round(roc_auc_score(y_test, predict_down)*100, 2)) + \"%\"\n",
    "Recall = str(round(recall_score(y_test, predict_down)*100, 2)) + \"%\"\n",
    "Precision = str(round(precision_score(y_test, predict_down)*100, 2)) + \"%\"\n",
    "Accuracy = str(round(accuracy_score(y_test, predict_down)*100, 2)) + \"%\"\n",
    "\n",
    "print(\"AUC: \",  AUC)\n",
    "print(\"Recall: \",  Recall)\n",
    "print(\"Precision: \",  Precision)\n",
    "print(\"Accuracy: \",  Accuracy)\n",
    "curr_results = pd.DataFrame(data={'Model': \"LR Down Sampled\", 'AUC': [AUC], 'Recall': [Recall], 'Precision': [Precision], 'Accuracy': [Accuracy]})\n",
    "results = results.append(curr_results)"
   ]
  },
  {
   "cell_type": "markdown",
   "metadata": {},
   "source": [
    "For the remainder of the models, we will use the down sampled dataset. However, we can't use this approach before cross validation since it will balance the test folds as well."
   ]
  },
  {
   "cell_type": "markdown",
   "metadata": {},
   "source": [
    "### KNN\n",
    "https://scikit-learn.org/stable/modules/generated/sklearn.neighbors.KNeighborsClassifier.html"
   ]
  },
  {
   "cell_type": "code",
   "execution_count": 28,
   "metadata": {},
   "outputs": [
    {
     "name": "stdout",
     "output_type": "stream",
     "text": [
      "AUC:  79.5%\n",
      "Recall:  65.62%\n",
      "Precision:  30.23%\n",
      "Accuracy:  92.21%\n"
     ]
    }
   ],
   "source": [
    "clf_knn = KNeighborsClassifier(n_neighbors=3, n_jobs=-1).fit(Xdown, np.ravel(ydown))\n",
    "predict_knn = clf_knn.predict(X_test)\n",
    "\n",
    "AUC = str(round(roc_auc_score(y_test, predict_knn)*100, 2)) + \"%\"\n",
    "Recall = str(round(recall_score(y_test, predict_knn)*100, 2)) + \"%\"\n",
    "Precision = str(round(precision_score(y_test, predict_knn)*100, 2)) + \"%\"\n",
    "Accuracy = str(round(accuracy_score(y_test, predict_knn)*100, 2)) + \"%\"\n",
    "\n",
    "print(\"AUC: \",  AUC)\n",
    "print(\"Recall: \",  Recall)\n",
    "print(\"Precision: \",  Precision)\n",
    "print(\"Accuracy: \",  Accuracy)\n",
    "curr_results = pd.DataFrame(data={'Model': \"KNN\", 'AUC': [AUC], 'Recall': [Recall], 'Precision': [Precision], 'Accuracy': [Accuracy]})\n",
    "results = results.append(curr_results)"
   ]
  },
  {
   "cell_type": "markdown",
   "metadata": {},
   "source": [
    "### Random Forest\n",
    "https://scikit-learn.org/stable/modules/generated/sklearn.ensemble.RandomForestClassifier.html"
   ]
  },
  {
   "cell_type": "code",
   "execution_count": 29,
   "metadata": {},
   "outputs": [
    {
     "name": "stdout",
     "output_type": "stream",
     "text": [
      "AUC:  91.57%\n",
      "Recall:  96.0%\n",
      "Precision:  24.63%\n",
      "Accuracy:  87.51%\n"
     ]
    }
   ],
   "source": [
    "clf_rf = RandomForestClassifier(max_depth=8, random_state=0, class_weight='balanced').fit(Xdown, np.ravel(ydown))\n",
    "predict_rf = clf_rf.predict(X_test)\n",
    "\n",
    "AUC = str(round(roc_auc_score(y_test, predict_rf)*100, 2)) + \"%\"\n",
    "Recall = str(round(recall_score(y_test, predict_rf)*100, 2)) + \"%\"\n",
    "Precision = str(round(precision_score(y_test, predict_rf)*100, 2)) + \"%\"\n",
    "Accuracy = str(round(accuracy_score(y_test, predict_rf)*100, 2)) + \"%\"\n",
    "\n",
    "print(\"AUC: \",  AUC)\n",
    "print(\"Recall: \",  Recall)\n",
    "print(\"Precision: \",  Precision)\n",
    "print(\"Accuracy: \",  Accuracy)\n",
    "curr_results = pd.DataFrame(data={'Model': \"Random Forest\", 'AUC': [AUC], 'Recall': [Recall], 'Precision': [Precision], 'Accuracy': [Accuracy]})\n",
    "results = results.append(curr_results)"
   ]
  },
  {
   "cell_type": "markdown",
   "metadata": {},
   "source": [
    "### Naive Bayes\n",
    "https://scikit-learn.org/stable/modules/naive_bayes.html"
   ]
  },
  {
   "cell_type": "code",
   "execution_count": 30,
   "metadata": {},
   "outputs": [
    {
     "name": "stdout",
     "output_type": "stream",
     "text": [
      "AUC:  81.52%\n",
      "Recall:  74.39%\n",
      "Precision:  22.27%\n",
      "Accuracy:  88.04%\n"
     ]
    }
   ],
   "source": [
    "clf_nb = GaussianNB().fit(Xdown, np.ravel(ydown))\n",
    "predict_nb = clf_nb.predict(X_test)\n",
    "\n",
    "AUC = str(round(roc_auc_score(y_test, predict_nb)*100, 2)) + \"%\"\n",
    "Recall = str(round(recall_score(y_test, predict_nb)*100, 2)) + \"%\"\n",
    "Precision = str(round(precision_score(y_test, predict_nb)*100, 2)) + \"%\"\n",
    "Accuracy = str(round(accuracy_score(y_test, predict_nb)*100, 2)) + \"%\"\n",
    "\n",
    "print(\"AUC: \",  AUC)\n",
    "print(\"Recall: \",  Recall)\n",
    "print(\"Precision: \",  Precision)\n",
    "print(\"Accuracy: \",  Accuracy)\n",
    "curr_results = pd.DataFrame(data={'Model': \"Naive Bayes\", 'AUC': [AUC], 'Recall': [Recall], 'Precision': [Precision], 'Accuracy': [Accuracy]})\n",
    "results = results.append(curr_results)"
   ]
  },
  {
   "cell_type": "markdown",
   "metadata": {},
   "source": [
    "### XG Boost\n",
    "https://scikit-learn.org/stable/modules/generated/sklearn.ensemble.GradientBoostingClassifier.html"
   ]
  },
  {
   "cell_type": "code",
   "execution_count": 31,
   "metadata": {},
   "outputs": [
    {
     "name": "stdout",
     "output_type": "stream",
     "text": [
      "AUC:  91.61%\n",
      "Recall:  96.0%\n",
      "Precision:  24.76%\n",
      "Accuracy:  87.6%\n"
     ]
    }
   ],
   "source": [
    "clf_xgb = GradientBoostingClassifier(random_state=0).fit(Xdown, np.ravel(ydown))\n",
    "predict_xgb = clf_xgb.predict(X_test)\n",
    "\n",
    "AUC = str(round(roc_auc_score(y_test, predict_xgb)*100, 2)) + \"%\"\n",
    "Recall = str(round(recall_score(y_test, predict_xgb)*100, 2)) + \"%\"\n",
    "Precision = str(round(precision_score(y_test, predict_xgb)*100, 2)) + \"%\"\n",
    "Accuracy = str(round(accuracy_score(y_test, predict_xgb)*100, 2)) + \"%\"\n",
    "\n",
    "print(\"AUC: \",  AUC)\n",
    "print(\"Recall: \",  Recall)\n",
    "print(\"Precision: \",  Precision)\n",
    "print(\"Accuracy: \",  Accuracy)\n",
    "curr_results = pd.DataFrame(data={'Model': \"XG Boost\", 'AUC': [AUC], 'Recall': [Recall], 'Precision': [Precision], 'Accuracy': [Accuracy]})\n",
    "results = results.append(curr_results)"
   ]
  },
  {
   "cell_type": "markdown",
   "metadata": {},
   "source": [
    "### SVM\n",
    "https://scikit-learn.org/stable/modules/generated/sklearn.svm.SVC.html"
   ]
  },
  {
   "cell_type": "code",
   "execution_count": 32,
   "metadata": {},
   "outputs": [
    {
     "name": "stdout",
     "output_type": "stream",
     "text": [
      "AUC:  91.5%\n",
      "Recall:  96.25%\n",
      "Precision:  24.12%\n",
      "Accuracy:  87.15%\n"
     ]
    }
   ],
   "source": [
    "clf_svm = SVC(gamma='auto', class_weight='balanced').fit(Xdown, np.ravel(ydown))\n",
    "predict_svm = clf_svm.predict(X_test)\n",
    "\n",
    "AUC = str(round(roc_auc_score(y_test, predict_svm)*100, 2)) + \"%\"\n",
    "Recall = str(round(recall_score(y_test, predict_svm)*100, 2)) + \"%\"\n",
    "Precision = str(round(precision_score(y_test, predict_svm)*100, 2)) + \"%\"\n",
    "Accuracy = str(round(accuracy_score(y_test, predict_svm)*100, 2)) + \"%\"\n",
    "\n",
    "print(\"AUC: \",  AUC)\n",
    "print(\"Recall: \",  Recall)\n",
    "print(\"Precision: \",  Precision)\n",
    "print(\"Accuracy: \",  Accuracy)\n",
    "curr_results = pd.DataFrame(data={'Model': \"SVM\", 'AUC': [AUC], 'Recall': [Recall], 'Precision': [Precision], 'Accuracy': [Accuracy]})\n",
    "results = results.append(curr_results)"
   ]
  },
  {
   "cell_type": "markdown",
   "metadata": {},
   "source": [
    "### Results Summary"
   ]
  },
  {
   "cell_type": "code",
   "execution_count": 33,
   "metadata": {},
   "outputs": [
    {
     "data": {
      "text/html": [
       "<div>\n",
       "<style scoped>\n",
       "    .dataframe tbody tr th:only-of-type {\n",
       "        vertical-align: middle;\n",
       "    }\n",
       "\n",
       "    .dataframe tbody tr th {\n",
       "        vertical-align: top;\n",
       "    }\n",
       "\n",
       "    .dataframe thead th {\n",
       "        text-align: right;\n",
       "    }\n",
       "</style>\n",
       "<table border=\"1\" class=\"dataframe\">\n",
       "  <thead>\n",
       "    <tr style=\"text-align: right;\">\n",
       "      <th></th>\n",
       "      <th>Model</th>\n",
       "      <th>AUC</th>\n",
       "      <th>Recall</th>\n",
       "      <th>Precision</th>\n",
       "      <th>Accuracy</th>\n",
       "    </tr>\n",
       "  </thead>\n",
       "  <tbody>\n",
       "    <tr>\n",
       "      <th>0</th>\n",
       "      <td>LR</td>\n",
       "      <td>61.29%</td>\n",
       "      <td>23.81%</td>\n",
       "      <td>45.71%</td>\n",
       "      <td>95.62%</td>\n",
       "    </tr>\n",
       "    <tr>\n",
       "      <th>0</th>\n",
       "      <td>LR SMOTE</td>\n",
       "      <td>90.54%</td>\n",
       "      <td>91.95%</td>\n",
       "      <td>27.02%</td>\n",
       "      <td>89.25%</td>\n",
       "    </tr>\n",
       "    <tr>\n",
       "      <th>0</th>\n",
       "      <td>LR Class Balancing</td>\n",
       "      <td>89.71%</td>\n",
       "      <td>89.48%</td>\n",
       "      <td>28.01%</td>\n",
       "      <td>89.92%</td>\n",
       "    </tr>\n",
       "    <tr>\n",
       "      <th>0</th>\n",
       "      <td>LR Down Sampled</td>\n",
       "      <td>89.64%</td>\n",
       "      <td>89.18%</td>\n",
       "      <td>28.28%</td>\n",
       "      <td>90.06%</td>\n",
       "    </tr>\n",
       "    <tr>\n",
       "      <th>0</th>\n",
       "      <td>KNN</td>\n",
       "      <td>79.5%</td>\n",
       "      <td>65.62%</td>\n",
       "      <td>30.23%</td>\n",
       "      <td>92.21%</td>\n",
       "    </tr>\n",
       "    <tr>\n",
       "      <th>0</th>\n",
       "      <td>Random Forest</td>\n",
       "      <td>91.57%</td>\n",
       "      <td>96.0%</td>\n",
       "      <td>24.63%</td>\n",
       "      <td>87.51%</td>\n",
       "    </tr>\n",
       "    <tr>\n",
       "      <th>0</th>\n",
       "      <td>Naive Bayes</td>\n",
       "      <td>81.52%</td>\n",
       "      <td>74.39%</td>\n",
       "      <td>22.27%</td>\n",
       "      <td>88.04%</td>\n",
       "    </tr>\n",
       "    <tr>\n",
       "      <th>0</th>\n",
       "      <td>XG Boost</td>\n",
       "      <td>91.61%</td>\n",
       "      <td>96.0%</td>\n",
       "      <td>24.76%</td>\n",
       "      <td>87.6%</td>\n",
       "    </tr>\n",
       "    <tr>\n",
       "      <th>0</th>\n",
       "      <td>SVM</td>\n",
       "      <td>91.5%</td>\n",
       "      <td>96.25%</td>\n",
       "      <td>24.12%</td>\n",
       "      <td>87.15%</td>\n",
       "    </tr>\n",
       "  </tbody>\n",
       "</table>\n",
       "</div>"
      ],
      "text/plain": [
       "                Model     AUC  Recall Precision Accuracy\n",
       "0                  LR  61.29%  23.81%    45.71%   95.62%\n",
       "0            LR SMOTE  90.54%  91.95%    27.02%   89.25%\n",
       "0  LR Class Balancing  89.71%  89.48%    28.01%   89.92%\n",
       "0     LR Down Sampled  89.64%  89.18%    28.28%   90.06%\n",
       "0                 KNN   79.5%  65.62%    30.23%   92.21%\n",
       "0       Random Forest  91.57%   96.0%    24.63%   87.51%\n",
       "0         Naive Bayes  81.52%  74.39%    22.27%   88.04%\n",
       "0            XG Boost  91.61%   96.0%    24.76%    87.6%\n",
       "0                 SVM   91.5%  96.25%    24.12%   87.15%"
      ]
     },
     "execution_count": 33,
     "metadata": {},
     "output_type": "execute_result"
    }
   ],
   "source": [
    "results"
   ]
  },
  {
   "cell_type": "markdown",
   "metadata": {},
   "source": [
    "Class Balancing helped AUC and Recall the most, but hurt Precision and Accuracy overall.\n",
    "\n",
    "We take our top 3 downsampled models: Random Forest, XGBoost, and SVM, perform hyperparameter tuning and cross validation before testing on the holdout set."
   ]
  },
  {
   "cell_type": "markdown",
   "metadata": {},
   "source": [
    "## Hyperparameter Tuning and Cross Validation"
   ]
  },
  {
   "cell_type": "markdown",
   "metadata": {},
   "source": [
    "https://towardsdatascience.com/hyperparameter-tuning-the-random-forest-in-python-using-scikit-learn-28d2aa77dd74\n",
    "\n",
    "Since we are using cross val, we can't pre balance the dataset because this will balance the \"test\" dataset as well."
   ]
  },
  {
   "cell_type": "code",
   "execution_count": 34,
   "metadata": {},
   "outputs": [],
   "source": [
    "#from imblearn.under_sampling import RandomUnderSampler\n",
    "#rus=RandomUnderSampler(random_state=0)\n",
    "#X_resampled, y_resampled = rus.fit_resample(X_new, y_new)\n",
    "\n",
    "#print(X_resampled.shape)\n",
    "#print(y_resampled.shape)\n",
    "#X_resampled.head()"
   ]
  },
  {
   "cell_type": "markdown",
   "metadata": {},
   "source": [
    "### Random Forest"
   ]
  },
  {
   "cell_type": "code",
   "execution_count": 35,
   "metadata": {},
   "outputs": [
    {
     "name": "stdout",
     "output_type": "stream",
     "text": [
      "Parameters currently in use for rf:\n",
      "\n",
      "{'bootstrap': True, 'ccp_alpha': 0.0, 'class_weight': 'balanced', 'criterion': 'gini', 'max_depth': 8, 'max_features': 'auto', 'max_leaf_nodes': None, 'max_samples': None, 'min_impurity_decrease': 0.0, 'min_impurity_split': None, 'min_samples_leaf': 1, 'min_samples_split': 2, 'min_weight_fraction_leaf': 0.0, 'n_estimators': 100, 'n_jobs': None, 'oob_score': False, 'random_state': 0, 'verbose': 0, 'warm_start': False}\n"
     ]
    }
   ],
   "source": [
    "print('Parameters currently in use for rf:\\n')\n",
    "print(clf_rf.get_params())"
   ]
  },
  {
   "cell_type": "code",
   "execution_count": 36,
   "metadata": {},
   "outputs": [],
   "source": [
    "param_grid = {'n_estimators': [100, 200, 300]\n",
    "               #,'min_samples_split': [1, 2, 4]\n",
    "              }\n",
    "\n",
    "scoring = {'AUC': 'roc_auc', 'Accuracy': 'accuracy', 'Recall': 'recall', 'Precision': 'precision'}\n",
    "\n",
    "#https://scikit-learn.org/stable/modules/model_evaluation.html#scoring-parameter\n",
    "#https://scikit-learn.org/stable/auto_examples/model_selection/plot_multi_metric_evaluation.html#sphx-glr-auto-examples-model-selection-plot-multi-metric-evaluation-py"
   ]
  },
  {
   "cell_type": "code",
   "execution_count": 37,
   "metadata": {},
   "outputs": [
    {
     "data": {
      "text/plain": [
       "GridSearchCV(cv=5,\n",
       "             estimator=RandomForestClassifier(class_weight='balanced',\n",
       "                                              max_depth=8, random_state=0),\n",
       "             param_grid={'n_estimators': [100, 200, 300]}, refit='AUC',\n",
       "             scoring={'AUC': 'roc_auc', 'Accuracy': 'accuracy',\n",
       "                      'Precision': 'precision', 'Recall': 'recall'})"
      ]
     },
     "execution_count": 37,
     "metadata": {},
     "output_type": "execute_result"
    }
   ],
   "source": [
    "#https://stackoverflow.com/questions/52196422/finding-accuracy-precision-and-recall-of-a-model-after-hyperparameter-tuning-in\n",
    "grid_search_rf = GridSearchCV(estimator=RandomForestClassifier(max_depth=8, random_state=0, class_weight='balanced'), \n",
    "                               param_grid=param_grid,\n",
    "                               scoring=scoring, refit='AUC',\n",
    "                               cv=5)\n",
    "# last, we fit our data. This will take a while...\n",
    "grid_search_rf.fit(X=X_new, y=np.ravel(y_new))"
   ]
  },
  {
   "cell_type": "code",
   "execution_count": 40,
   "metadata": {},
   "outputs": [],
   "source": [
    "AUC = str(round(grid_search_rf.best_score_*100, 2)) + \"%\"\n",
    "Recall = str(round(grid_search_rf.cv_results_['mean_test_Recall'][grid_search_rf.cv_results_['params'].index(grid_search_rf.best_params_)]*100, 2)) + \"%\"\n",
    "Precision = str(round(grid_search_rf.cv_results_['mean_test_Precision'][grid_search_rf.cv_results_['params'].index(grid_search_rf.best_params_)]*100, 2)) + \"%\"\n",
    "Accuracy = str(round(grid_search_rf.cv_results_['mean_test_Accuracy'][grid_search_rf.cv_results_['params'].index(grid_search_rf.best_params_)]*100, 2)) + \"%\"\n",
    "res_grid = pd.DataFrame(data={'Model': \"Random Forest\", 'AUC': [AUC], 'Recall': [Recall], 'Precision': [Precision], 'Accuracy': [Accuracy]})"
   ]
  },
  {
   "cell_type": "markdown",
   "metadata": {},
   "source": [
    "### Logistic Regression"
   ]
  },
  {
   "cell_type": "code",
   "execution_count": 41,
   "metadata": {},
   "outputs": [
    {
     "name": "stdout",
     "output_type": "stream",
     "text": [
      "Parameters currently in use for svm:\n",
      "\n",
      "{'C': 1.0, 'class_weight': 'balanced', 'dual': False, 'fit_intercept': True, 'intercept_scaling': 1, 'l1_ratio': None, 'max_iter': 100, 'multi_class': 'auto', 'n_jobs': None, 'penalty': 'l2', 'random_state': 0, 'solver': 'lbfgs', 'tol': 0.0001, 'verbose': 0, 'warm_start': False}\n"
     ]
    },
    {
     "data": {
      "text/plain": [
       "GridSearchCV(cv=5,\n",
       "             estimator=LogisticRegression(class_weight='balanced',\n",
       "                                          random_state=0),\n",
       "             param_grid={'C': [0.1, 1, 10]}, refit='AUC',\n",
       "             scoring={'AUC': 'roc_auc', 'Accuracy': 'accuracy',\n",
       "                      'Precision': 'precision', 'Recall': 'recall'})"
      ]
     },
     "execution_count": 41,
     "metadata": {},
     "output_type": "execute_result"
    }
   ],
   "source": [
    "print('Parameters currently in use for svm:\\n')\n",
    "print(clf_bal.get_params())\n",
    "\n",
    "param_grid = {'C': [0.1, 1, 10] }\n",
    "#param_grid = {'C': [1, 10, 100]}\n",
    "\n",
    "#https://stackoverflow.com/questions/52196422/finding-accuracy-precision-and-recall-of-a-model-after-hyperparameter-tuning-in\n",
    "grid_search_lr = GridSearchCV(estimator=LogisticRegression(random_state=0, class_weight='balanced'), \n",
    "                              param_grid=param_grid,\n",
    "                              scoring=scoring, refit='AUC',\n",
    "                              cv=5)\n",
    "# last, we fit our data. This will take a while...\n",
    "grid_search_lr.fit(X=X_new, y=np.ravel(y_new))\n",
    "\n",
    "AUC = str(round(grid_search_lr.best_score_*100, 2)) + \"%\"\n",
    "Recall = str(round(grid_search_lr.cv_results_['mean_test_Recall'][grid_search_lr.cv_results_['params'].index(grid_search_lr.best_params_)]*100, 2)) + \"%\"\n",
    "Precision = str(round(grid_search_lr.cv_results_['mean_test_Precision'][grid_search_lr.cv_results_['params'].index(grid_search_lr.best_params_)]*100, 2)) + \"%\"\n",
    "Accuracy = str(round(grid_search_lr.cv_results_['mean_test_Accuracy'][grid_search_lr.cv_results_['params'].index(grid_search_lr.best_params_)]*100, 2)) + \"%\"\n",
    "curr_res_grid = pd.DataFrame(data={'Model': \"SVM\", 'AUC': [AUC], 'Recall': [Recall], 'Precision': [Precision], 'Accuracy': [Accuracy]})\n",
    "\n",
    "res_grid = res_grid.append(curr_res_grid)"
   ]
  },
  {
   "cell_type": "markdown",
   "metadata": {},
   "source": [
    "### XG Boost\n",
    "https://www.analyticsvidhya.com/blog/2016/02/complete-guide-parameter-tuning-gradient-boosting-gbm-python/"
   ]
  },
  {
   "cell_type": "code",
   "execution_count": 42,
   "metadata": {},
   "outputs": [
    {
     "name": "stdout",
     "output_type": "stream",
     "text": [
      "Parameters currently in use for lr:\n",
      "\n",
      "{'ccp_alpha': 0.0, 'criterion': 'friedman_mse', 'init': None, 'learning_rate': 0.1, 'loss': 'deviance', 'max_depth': 3, 'max_features': None, 'max_leaf_nodes': None, 'min_impurity_decrease': 0.0, 'min_impurity_split': None, 'min_samples_leaf': 1, 'min_samples_split': 2, 'min_weight_fraction_leaf': 0.0, 'n_estimators': 100, 'n_iter_no_change': None, 'presort': 'deprecated', 'random_state': 0, 'subsample': 1.0, 'tol': 0.0001, 'validation_fraction': 0.1, 'verbose': 0, 'warm_start': False}\n"
     ]
    }
   ],
   "source": [
    "print('Parameters currently in use for lr:\\n')\n",
    "print(clf_xgb.get_params())"
   ]
  },
  {
   "cell_type": "code",
   "execution_count": 43,
   "metadata": {},
   "outputs": [
    {
     "data": {
      "text/plain": [
       "GridSearchCV(cv=5, estimator=GradientBoostingClassifier(random_state=0),\n",
       "             param_grid={'n_estimators': [100, 200, 300]}, refit='AUC',\n",
       "             scoring={'AUC': 'roc_auc', 'Accuracy': 'accuracy',\n",
       "                      'Precision': 'precision', 'Recall': 'recall'})"
      ]
     },
     "execution_count": 43,
     "metadata": {},
     "output_type": "execute_result"
    }
   ],
   "source": [
    "param_grid = {'n_estimators': [100, 200, 300]\n",
    "               #,'min_samples_split': [1, 2, 4]\n",
    "              }\n",
    "\n",
    "#https://stackoverflow.com/questions/52196422/finding-accuracy-precision-and-recall-of-a-model-after-hyperparameter-tuning-in\n",
    "grid_search_xgb = GridSearchCV(estimator=GradientBoostingClassifier(random_state=0), \n",
    "                               param_grid=param_grid,\n",
    "                               scoring=scoring, refit='AUC',\n",
    "                               cv=5)\n",
    "# last, we fit our data. This will take a while...\n",
    "grid_search_xgb.fit(X=X_new, y=np.ravel(y_new))"
   ]
  },
  {
   "cell_type": "code",
   "execution_count": 44,
   "metadata": {},
   "outputs": [],
   "source": [
    "AUC = str(round(grid_search_xgb.best_score_*100, 2)) + \"%\"\n",
    "Recall = str(round(grid_search_xgb.cv_results_['mean_test_Recall'][grid_search_xgb.cv_results_['params'].index(grid_search_xgb.best_params_)]*100, 2)) + \"%\"\n",
    "Precision = str(round(grid_search_xgb.cv_results_['mean_test_Precision'][grid_search_xgb.cv_results_['params'].index(grid_search_xgb.best_params_)]*100, 2)) + \"%\"\n",
    "Accuracy = str(round(grid_search_xgb.cv_results_['mean_test_Accuracy'][grid_search_xgb.cv_results_['params'].index(grid_search_xgb.best_params_)]*100, 2)) + \"%\"\n",
    "curr_res_grid = pd.DataFrame(data={'Model': \"XG Boost\", 'AUC': [AUC], 'Recall': [Recall], 'Precision': [Precision], 'Accuracy': [Accuracy]})\n",
    "res_grid = res_grid.append(curr_res_grid)"
   ]
  },
  {
   "cell_type": "markdown",
   "metadata": {},
   "source": [
    "### Results Summary"
   ]
  },
  {
   "cell_type": "code",
   "execution_count": 45,
   "metadata": {},
   "outputs": [
    {
     "data": {
      "text/html": [
       "<div>\n",
       "<style scoped>\n",
       "    .dataframe tbody tr th:only-of-type {\n",
       "        vertical-align: middle;\n",
       "    }\n",
       "\n",
       "    .dataframe tbody tr th {\n",
       "        vertical-align: top;\n",
       "    }\n",
       "\n",
       "    .dataframe thead th {\n",
       "        text-align: right;\n",
       "    }\n",
       "</style>\n",
       "<table border=\"1\" class=\"dataframe\">\n",
       "  <thead>\n",
       "    <tr style=\"text-align: right;\">\n",
       "      <th></th>\n",
       "      <th>Model</th>\n",
       "      <th>AUC</th>\n",
       "      <th>Recall</th>\n",
       "      <th>Precision</th>\n",
       "      <th>Accuracy</th>\n",
       "    </tr>\n",
       "  </thead>\n",
       "  <tbody>\n",
       "    <tr>\n",
       "      <th>0</th>\n",
       "      <td>Random Forest</td>\n",
       "      <td>94.86%</td>\n",
       "      <td>95.48%</td>\n",
       "      <td>24.55%</td>\n",
       "      <td>87.51%</td>\n",
       "    </tr>\n",
       "    <tr>\n",
       "      <th>0</th>\n",
       "      <td>SVM</td>\n",
       "      <td>94.61%</td>\n",
       "      <td>89.48%</td>\n",
       "      <td>27.68%</td>\n",
       "      <td>89.75%</td>\n",
       "    </tr>\n",
       "    <tr>\n",
       "      <th>0</th>\n",
       "      <td>XG Boost</td>\n",
       "      <td>95.13%</td>\n",
       "      <td>11.27%</td>\n",
       "      <td>54.75%</td>\n",
       "      <td>95.89%</td>\n",
       "    </tr>\n",
       "  </tbody>\n",
       "</table>\n",
       "</div>"
      ],
      "text/plain": [
       "           Model     AUC  Recall Precision Accuracy\n",
       "0  Random Forest  94.86%  95.48%    24.55%   87.51%\n",
       "0            SVM  94.61%  89.48%    27.68%   89.75%\n",
       "0       XG Boost  95.13%  11.27%    54.75%   95.89%"
      ]
     },
     "execution_count": 45,
     "metadata": {},
     "output_type": "execute_result"
    }
   ],
   "source": [
    "res_grid"
   ]
  },
  {
   "cell_type": "markdown",
   "metadata": {},
   "source": [
    "We ran into a problem with the XG Boost model here due to the class balancing. We'll retrain the model with balancing."
   ]
  },
  {
   "cell_type": "code",
   "execution_count": 61,
   "metadata": {},
   "outputs": [],
   "source": [
    "from imblearn.under_sampling import RandomUnderSampler\n",
    "rus=RandomUnderSampler(random_state=0)\n",
    "X_resampled, y_resampled = rus.fit_resample(X_new, y_new)\n",
    "clf_xgb = GradientBoostingClassifier(random_state=0).fit(X_resampled, np.ravel(y_resampled))"
   ]
  },
  {
   "cell_type": "markdown",
   "metadata": {},
   "source": [
    "# Evaluation"
   ]
  },
  {
   "cell_type": "markdown",
   "metadata": {},
   "source": [
    "## Performance on Holdout Set"
   ]
  },
  {
   "cell_type": "markdown",
   "metadata": {},
   "source": [
    "### Random Forest Predictions"
   ]
  },
  {
   "cell_type": "code",
   "execution_count": 62,
   "metadata": {},
   "outputs": [],
   "source": [
    "predict_rf = grid_search_rf.predict(X_holdout)\n",
    "AUC = str(round(roc_auc_score(y_holdout, predict_rf)*100, 2)) + \"%\"\n",
    "Recall = str(round(recall_score(y_holdout, predict_rf)*100, 2)) + \"%\"\n",
    "Precision = str(round(precision_score(y_holdout, predict_rf)*100, 2)) + \"%\"\n",
    "Accuracy = str(round(accuracy_score(y_holdout, predict_rf)*100, 2)) + \"%\"\n",
    "res_ho = pd.DataFrame(data={'Model': \"Random Forest\", 'AUC': [AUC], 'Recall': [Recall], 'Precision': [Precision], 'Accuracy': [Accuracy]})"
   ]
  },
  {
   "cell_type": "markdown",
   "metadata": {},
   "source": [
    "### SVM Predictions"
   ]
  },
  {
   "cell_type": "code",
   "execution_count": 63,
   "metadata": {},
   "outputs": [],
   "source": [
    "predict_lr = grid_search_lr.predict(X_holdout)\n",
    "AUC = str(round(roc_auc_score(y_holdout, predict_lr)*100, 2)) + \"%\"\n",
    "Recall = str(round(recall_score(y_holdout, predict_lr)*100, 2)) + \"%\"\n",
    "Precision = str(round(precision_score(y_holdout, predict_lr)*100, 2)) + \"%\"\n",
    "Accuracy = str(round(accuracy_score(y_holdout, predict_lr)*100, 2)) + \"%\"\n",
    "curr_res_ho = pd.DataFrame(data={'Model': \"Logistic Regression\", 'AUC': [AUC], 'Recall': [Recall], 'Precision': [Precision], 'Accuracy': [Accuracy]})\n",
    "\n",
    "res_ho = res_ho.append(curr_res_ho)"
   ]
  },
  {
   "cell_type": "markdown",
   "metadata": {},
   "source": [
    "### XG Boost Predictions"
   ]
  },
  {
   "cell_type": "code",
   "execution_count": 64,
   "metadata": {},
   "outputs": [],
   "source": [
    "predict_xgb = clf_xgb.predict(X_holdout)\n",
    "AUC = str(round(roc_auc_score(y_holdout, predict_xgb)*100, 2)) + \"%\"\n",
    "Recall = str(round(recall_score(y_holdout, predict_xgb)*100, 2)) + \"%\"\n",
    "Precision = str(round(precision_score(y_holdout, predict_xgb)*100, 2)) + \"%\"\n",
    "Accuracy = str(round(accuracy_score(y_holdout, predict_xgb)*100, 2)) + \"%\"\n",
    "curr_res_ho = pd.DataFrame(data={'Model': \"XG Boost\", 'AUC': [AUC], 'Recall': [Recall], 'Precision': [Precision], 'Accuracy': [Accuracy]})\n",
    "res_ho = res_ho.append(curr_res_ho)"
   ]
  },
  {
   "cell_type": "markdown",
   "metadata": {},
   "source": [
    "### Ensemble Committee with Majority Voting Predictions"
   ]
  },
  {
   "cell_type": "code",
   "execution_count": 65,
   "metadata": {},
   "outputs": [],
   "source": [
    "from sklearn.ensemble import VotingClassifier\n",
    "eclf1 = VotingClassifier(estimators=[\n",
    "        ('lr', grid_search_lr), ('rf', grid_search_rf), ('gnb', clf_xgb)], voting='hard')\n",
    "eclf1 = eclf1.fit(X=X_new, y=np.ravel(y_new))"
   ]
  },
  {
   "cell_type": "code",
   "execution_count": 66,
   "metadata": {},
   "outputs": [],
   "source": [
    "predict_voting = eclf1.predict(X_holdout)"
   ]
  },
  {
   "cell_type": "code",
   "execution_count": 67,
   "metadata": {},
   "outputs": [],
   "source": [
    "AUC = str(round(roc_auc_score(y_holdout, predict_voting)*100, 2)) + \"%\"\n",
    "Recall = str(round(recall_score(y_holdout, predict_voting)*100, 2)) + \"%\"\n",
    "Precision = str(round(precision_score(y_holdout, predict_voting)*100, 2)) + \"%\"\n",
    "Accuracy = str(round(accuracy_score(y_holdout, predict_voting)*100, 2)) + \"%\"\n",
    "\n",
    "curr_res_ho = pd.DataFrame(data={'Model': \"Ensemble Committee with Majority Voting\", 'AUC': [AUC], 'Recall': [Recall], 'Precision': [Precision], 'Accuracy': [Accuracy]})\n",
    "res_ho = res_ho.append(curr_res_ho)"
   ]
  },
  {
   "cell_type": "markdown",
   "metadata": {},
   "source": [
    "### Results Summary"
   ]
  },
  {
   "cell_type": "code",
   "execution_count": 68,
   "metadata": {},
   "outputs": [
    {
     "data": {
      "text/html": [
       "<div>\n",
       "<style scoped>\n",
       "    .dataframe tbody tr th:only-of-type {\n",
       "        vertical-align: middle;\n",
       "    }\n",
       "\n",
       "    .dataframe tbody tr th {\n",
       "        vertical-align: top;\n",
       "    }\n",
       "\n",
       "    .dataframe thead th {\n",
       "        text-align: right;\n",
       "    }\n",
       "</style>\n",
       "<table border=\"1\" class=\"dataframe\">\n",
       "  <thead>\n",
       "    <tr style=\"text-align: right;\">\n",
       "      <th></th>\n",
       "      <th>Model</th>\n",
       "      <th>AUC</th>\n",
       "      <th>Recall</th>\n",
       "      <th>Precision</th>\n",
       "      <th>Accuracy</th>\n",
       "    </tr>\n",
       "  </thead>\n",
       "  <tbody>\n",
       "    <tr>\n",
       "      <th>0</th>\n",
       "      <td>Random Forest</td>\n",
       "      <td>91.42%</td>\n",
       "      <td>95.81%</td>\n",
       "      <td>24.44%</td>\n",
       "      <td>87.4%</td>\n",
       "    </tr>\n",
       "    <tr>\n",
       "      <th>0</th>\n",
       "      <td>Logistic Regression</td>\n",
       "      <td>89.87%</td>\n",
       "      <td>89.94%</td>\n",
       "      <td>27.83%</td>\n",
       "      <td>89.8%</td>\n",
       "    </tr>\n",
       "    <tr>\n",
       "      <th>0</th>\n",
       "      <td>XG Boost</td>\n",
       "      <td>91.43%</td>\n",
       "      <td>95.76%</td>\n",
       "      <td>24.53%</td>\n",
       "      <td>87.47%</td>\n",
       "    </tr>\n",
       "    <tr>\n",
       "      <th>0</th>\n",
       "      <td>Ensemble Committee with Majority Voting</td>\n",
       "      <td>89.83%</td>\n",
       "      <td>89.84%</td>\n",
       "      <td>27.84%</td>\n",
       "      <td>89.81%</td>\n",
       "    </tr>\n",
       "  </tbody>\n",
       "</table>\n",
       "</div>"
      ],
      "text/plain": [
       "                                     Model     AUC  Recall Precision Accuracy\n",
       "0                            Random Forest  91.42%  95.81%    24.44%    87.4%\n",
       "0                      Logistic Regression  89.87%  89.94%    27.83%    89.8%\n",
       "0                                 XG Boost  91.43%  95.76%    24.53%   87.47%\n",
       "0  Ensemble Committee with Majority Voting  89.83%  89.84%    27.84%   89.81%"
      ]
     },
     "execution_count": 68,
     "metadata": {},
     "output_type": "execute_result"
    }
   ],
   "source": [
    "res_ho"
   ]
  },
  {
   "cell_type": "markdown",
   "metadata": {},
   "source": [
    "## Analysis of XGBoost Performance"
   ]
  },
  {
   "cell_type": "code",
   "execution_count": 69,
   "metadata": {},
   "outputs": [
    {
     "data": {
      "text/plain": [
       "Text(0.5, 1.0, 'Confusion matrix for for XGBoost Classifier on Holdout')"
      ]
     },
     "execution_count": 69,
     "metadata": {},
     "output_type": "execute_result"
    },
    {
     "data": {
      "text/plain": [
       "<AxesSubplot:title={'center':'Confusion matrix for for XGBoost Classifier on Holdout'}>"
      ]
     },
     "execution_count": 69,
     "metadata": {},
     "output_type": "execute_result"
    },
    {
     "data": {
      "text/plain": [
       "Text(0.5, 15.0, 'Predicted classes')"
      ]
     },
     "execution_count": 69,
     "metadata": {},
     "output_type": "execute_result"
    },
    {
     "data": {
      "text/plain": [
       "Text(33.0, 0.5, 'True Classes')"
      ]
     },
     "execution_count": 69,
     "metadata": {},
     "output_type": "execute_result"
    },
    {
     "data": {
      "image/png": "[encoded data removed]",
      "text/plain": [
       "<Figure size 432x288 with 2 Axes>"
      ]
     },
     "metadata": {
      "needs_background": "light"
     },
     "output_type": "display_data"
    }
   ],
   "source": [
    "plt.title('Confusion matrix for for XGBoost Classifier on Holdout')\n",
    "sns.heatmap(confusion_matrix(y_holdout, predict_xgb), annot=True, cmap=\"YlGn\",fmt=\"d\")\n",
    "plt.xlabel('Predicted classes')\n",
    "plt.ylabel('True Classes')\n",
    "plt.show()"
   ]
  },
  {
   "cell_type": "code",
   "execution_count": 70,
   "metadata": {},
   "outputs": [],
   "source": [
    "predicted_probas = clf_xgb.predict_proba(X_test)"
   ]
  },
  {
   "cell_type": "code",
   "execution_count": 71,
   "metadata": {},
   "outputs": [
    {
     "data": {
      "text/plain": [
       "<AxesSubplot:title={'center':'Cumulative Gains Curve'}, xlabel='Percentage of sample', ylabel='Gain'>"
      ]
     },
     "execution_count": 71,
     "metadata": {},
     "output_type": "execute_result"
    },
    {
     "data": {
      "image/png": "[encoded data removed]",
      "text/plain": [
       "<Figure size 432x288 with 1 Axes>"
      ]
     },
     "metadata": {
      "needs_background": "light"
     },
     "output_type": "display_data"
    }
   ],
   "source": [
    "import scikitplot as skplt\n",
    "\n",
    "skplt.metrics.plot_cumulative_gain(y_test, predicted_probas)\n",
    "plt.show()"
   ]
  },
  {
   "cell_type": "code",
   "execution_count": 72,
   "metadata": {},
   "outputs": [],
   "source": [
    "feat_imp_xgb = pd.DataFrame(data={'names': X.columns, 'importance': clf_xgb.feature_importances_})"
   ]
  },
  {
   "cell_type": "code",
   "execution_count": 73,
   "metadata": {},
   "outputs": [
    {
     "data": {
      "text/html": [
       "<div>\n",
       "<style scoped>\n",
       "    .dataframe tbody tr th:only-of-type {\n",
       "        vertical-align: middle;\n",
       "    }\n",
       "\n",
       "    .dataframe tbody tr th {\n",
       "        vertical-align: top;\n",
       "    }\n",
       "\n",
       "    .dataframe thead th {\n",
       "        text-align: right;\n",
       "    }\n",
       "</style>\n",
       "<table border=\"1\" class=\"dataframe\">\n",
       "  <thead>\n",
       "    <tr style=\"text-align: right;\">\n",
       "      <th></th>\n",
       "      <th>names</th>\n",
       "      <th>importance</th>\n",
       "    </tr>\n",
       "  </thead>\n",
       "  <tbody>\n",
       "    <tr>\n",
       "      <th>0</th>\n",
       "      <td>basket_icon_click</td>\n",
       "      <td>0.672481</td>\n",
       "    </tr>\n",
       "    <tr>\n",
       "      <th>2</th>\n",
       "      <td>basket_add_detail</td>\n",
       "      <td>0.183313</td>\n",
       "    </tr>\n",
       "    <tr>\n",
       "      <th>14</th>\n",
       "      <td>saw_homepage</td>\n",
       "      <td>0.030457</td>\n",
       "    </tr>\n",
       "    <tr>\n",
       "      <th>1</th>\n",
       "      <td>basket_add_list</td>\n",
       "      <td>0.028161</td>\n",
       "    </tr>\n",
       "    <tr>\n",
       "      <th>15</th>\n",
       "      <td>device_mobile</td>\n",
       "      <td>0.024274</td>\n",
       "    </tr>\n",
       "    <tr>\n",
       "      <th>16</th>\n",
       "      <td>device_computer</td>\n",
       "      <td>0.017649</td>\n",
       "    </tr>\n",
       "    <tr>\n",
       "      <th>19</th>\n",
       "      <td>loc_uk</td>\n",
       "      <td>0.012018</td>\n",
       "    </tr>\n",
       "    <tr>\n",
       "      <th>5</th>\n",
       "      <td>account_page_click</td>\n",
       "      <td>0.008126</td>\n",
       "    </tr>\n",
       "    <tr>\n",
       "      <th>8</th>\n",
       "      <td>list_size_dropdown</td>\n",
       "      <td>0.007893</td>\n",
       "    </tr>\n",
       "    <tr>\n",
       "      <th>9</th>\n",
       "      <td>closed_minibasket_click</td>\n",
       "      <td>0.002747</td>\n",
       "    </tr>\n",
       "    <tr>\n",
       "      <th>3</th>\n",
       "      <td>sort_by</td>\n",
       "      <td>0.002478</td>\n",
       "    </tr>\n",
       "    <tr>\n",
       "      <th>17</th>\n",
       "      <td>device_tablet</td>\n",
       "      <td>0.002245</td>\n",
       "    </tr>\n",
       "    <tr>\n",
       "      <th>10</th>\n",
       "      <td>checked_returns_detail</td>\n",
       "      <td>0.001793</td>\n",
       "    </tr>\n",
       "    <tr>\n",
       "      <th>18</th>\n",
       "      <td>returning_user</td>\n",
       "      <td>0.001635</td>\n",
       "    </tr>\n",
       "    <tr>\n",
       "      <th>4</th>\n",
       "      <td>image_picker</td>\n",
       "      <td>0.001269</td>\n",
       "    </tr>\n",
       "    <tr>\n",
       "      <th>13</th>\n",
       "      <td>saw_account_upgrade</td>\n",
       "      <td>0.000935</td>\n",
       "    </tr>\n",
       "    <tr>\n",
       "      <th>6</th>\n",
       "      <td>promo_banner_click</td>\n",
       "      <td>0.000856</td>\n",
       "    </tr>\n",
       "    <tr>\n",
       "      <th>7</th>\n",
       "      <td>detail_wishlist_add</td>\n",
       "      <td>0.000761</td>\n",
       "    </tr>\n",
       "    <tr>\n",
       "      <th>12</th>\n",
       "      <td>saw_delivery</td>\n",
       "      <td>0.000682</td>\n",
       "    </tr>\n",
       "    <tr>\n",
       "      <th>11</th>\n",
       "      <td>saw_sizecharts</td>\n",
       "      <td>0.000226</td>\n",
       "    </tr>\n",
       "  </tbody>\n",
       "</table>\n",
       "</div>"
      ],
      "text/plain": [
       "                      names  importance\n",
       "0         basket_icon_click    0.672481\n",
       "2         basket_add_detail    0.183313\n",
       "14             saw_homepage    0.030457\n",
       "1           basket_add_list    0.028161\n",
       "15            device_mobile    0.024274\n",
       "16          device_computer    0.017649\n",
       "19                   loc_uk    0.012018\n",
       "5        account_page_click    0.008126\n",
       "8        list_size_dropdown    0.007893\n",
       "9   closed_minibasket_click    0.002747\n",
       "3                   sort_by    0.002478\n",
       "17            device_tablet    0.002245\n",
       "10   checked_returns_detail    0.001793\n",
       "18           returning_user    0.001635\n",
       "4              image_picker    0.001269\n",
       "13      saw_account_upgrade    0.000935\n",
       "6        promo_banner_click    0.000856\n",
       "7       detail_wishlist_add    0.000761\n",
       "12             saw_delivery    0.000682\n",
       "11           saw_sizecharts    0.000226"
      ]
     },
     "execution_count": 73,
     "metadata": {},
     "output_type": "execute_result"
    }
   ],
   "source": [
    "feat_imp_xgb.sort_values(by=['importance'], ascending=False)"
   ]
  }
 ],
 "metadata": {
  "kernelspec": {
   "display_name": "Python 3",
   "language": "python",
   "name": "python3"
  },
  "language_info": {
   "codemirror_mode": {
    "name": "ipython",
    "version": 3
   },
   "file_extension": ".py",
   "mimetype": "text/x-python",
   "name": "python",
   "nbconvert_exporter": "python",
   "pygments_lexer": "ipython3",
   "version": "3.7.6"
  },
  "toc": {
   "base_numbering": 1,
   "nav_menu": {},
   "number_sections": true,
   "sideBar": true,
   "skip_h1_title": false,
   "title_cell": "Table of Contents",
   "title_sidebar": "Contents",
   "toc_cell": false,
   "toc_position": {
    "height": "calc(100% - 180px)",
    "left": "10px",
    "top": "150px",
    "width": "266px"
   },
   "toc_section_display": true,
   "toc_window_display": true
  }
 },
 "nbformat": 4,
 "nbformat_minor": 4
}
